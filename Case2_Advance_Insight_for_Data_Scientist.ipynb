{
  "nbformat": 4,
  "nbformat_minor": 0,
  "metadata": {
    "colab": {
      "name": "Case2_Advance Insight for Data Scientist.ipynb",
      "provenance": [],
      "include_colab_link": true
    },
    "kernelspec": {
      "name": "python3",
      "display_name": "Python 3"
    },
    "language_info": {
      "name": "python"
    }
  },
  "cells": [
    {
      "cell_type": "markdown",
      "metadata": {
        "id": "view-in-github",
        "colab_type": "text"
      },
      "source": [
        "<a href=\"https://colab.research.google.com/github/PikabooZ/SASPy-Connection/blob/main/Case2_Advance_Insight_for_Data_Scientist.ipynb\" target=\"_parent\"><img src=\"https://colab.research.google.com/assets/colab-badge.svg\" alt=\"Open In Colab\"/></a>"
      ]
    },
    {
      "cell_type": "code",
      "metadata": {
        "colab": {
          "base_uri": "https://localhost:8080/",
          "height": 17
        },
        "id": "IyZtjtbQgK4s",
        "outputId": "0c05df23-929d-4cb8-b902-730b3f4f8d6a"
      },
      "source": [
        "from IPython.core.display import display, HTML\n",
        "display(HTML(\"<style>.container { width:100% !important; }</style>\"))"
      ],
      "execution_count": null,
      "outputs": [
        {
          "output_type": "display_data",
          "data": {
            "text/html": [
              "<style>.container { width:100% !important; }</style>"
            ],
            "text/plain": [
              "<IPython.core.display.HTML object>"
            ]
          },
          "metadata": {
            "tags": []
          }
        }
      ]
    },
    {
      "cell_type": "markdown",
      "metadata": {
        "id": "VrHOExvLgSaw"
      },
      "source": [
        "\n",
        "The job of a data scientist is typically to extract insights from the data and, based on the insights, come up with ideas to improve the product.\n",
        "The standard approach is:\n",
        "\n",
        "1.\tCollect a dataset including your target variable (label) and variables that you think might be related\n",
        "\n",
        "2.\tBuild a model trying to predict the label\n",
        "\n",
        "3.\tLook into the model and figure out how each variable impacts the output\n",
        "\n",
        "4.\tBased on that, come up with product recommendation (aka the famous actionable insights you see in pretty much any DS job posting)\n",
        "Models and insights\n",
        "\n",
        "The most effective ways to extract insights from a model are:\n",
        "\n",
        "1.\tBuild a logistic or linear regression for, respectively, binary and continuous outputs, and look at the coefficients\n",
        "\n",
        "2.\tBuild a decision tree and look at its structure\n",
        "\n",
        "3.\tBuild any model and look at the model partial dependence plots\n",
        "\n",
        "4.\tBuild RuleFit and look at the dummy features it created\n",
        "\n",
        "Obviously, model insights are meaningful only if the model is predicting well. If a model predictive power is very bad, then looking at its structure is totally meaningless. However, checking and optimizing model performance is beyond the scope of this section. Here we just focus on how to extract insights from a model we built. There are other sections in the course about model optimization.\n",
        "We’ll look now at each of those four techniques in detail.\n",
        "MODEL\n",
        "##如果performance不好 = 这一切分析,analytics 没有任何意义\n"
      ]
    },
    {
      "cell_type": "markdown",
      "metadata": {
        "id": "TBf9oH5CgbmR"
      },
      "source": [
        "#CASE2"
      ]
    },
    {
      "cell_type": "markdown",
      "metadata": {
        "id": "-ANfFHyggZZH"
      },
      "source": [
        "Let’s assume you work in the marketing department and your product manager has asked you to get back to her with some project ideas on how to improve email click-through-rate. That is, the company has been sending marketing emails and they want to increase the percentage of people who click on the company link inside the email.\n",
        "You have a dataset like the one below. You can also download it from\n",
        "\n",
        "https://drive.google.com/uc?export=download&id=1PXjbqSMu__d_ppEv92i_Gnx3kKgfvhFk\n",
        "\n",
        "●\temail_id : the Id of the email that was sent. It is unique by email\n",
        "\n",
        "●\temail_text : two different versions of the email have been sent: one has “long text” (i.e. has 4 paragraphs) and one has “short text” (just two paragraphs)\n",
        "\n",
        "●\temail_version : some emails were “personalized” (i.e. they had the name of the user receiving the email in the incipit, such as “Hi John,”), while some emails were “generic” (the incipit was just “Hi,”)\n",
        "\n",
        "●\thour : the local time on which the email was sent\n",
        "\n",
        "●\tweekday : the weekday on which the email was sent\n",
        "\n",
        "●\tuser_country : the country where the user receiving the email is based. It comes from the user ip address when they created \n",
        "the account\n",
        "\n",
        "●\tuser_past_purchases : how many items in the past were bought by the user receiving the email\n",
        "\n",
        "●\tclicked - Whether the user has clicked on the link inside the email. This is our label and, most importantly, the goal of the project is to increase this"
      ]
    },
    {
      "cell_type": "markdown",
      "metadata": {
        "id": "g9pG5J_OgfOA"
      },
      "source": [
        "#Regressions and Coefficients\n",
        "\n",
        "We will focus here on logistic regression given that the label we are trying to predict (“clicked”) is binary. However, the overall approach if you were dealing with a linear regression would be similar. After all, a logistic regression can be seen as a linear method with a particular link function (logit) to constrain the output between 0 and 1, so that it can be used for binary classification problems."
      ]
    },
    {
      "cell_type": "code",
      "metadata": {
        "colab": {
          "base_uri": "https://localhost:8080/"
        },
        "id": "hC08lBbhgXkZ",
        "outputId": "4b043f6b-cba7-4cbc-9c26-1cf0c0a21b5b"
      },
      "source": [
        "import pandas\n",
        "import statsmodels.api as sm\n",
        "\n",
        "data = pandas.read_csv('https://drive.google.com/uc?export=download&id=1PXjbqSMu__d_ppEv92i_Gnx3kKgfvhFk')\n",
        "# 在做model之前 我们先找到category variable 的 reference level\n",
        "data_categorical = data.select_dtypes(['object']).astype('category')\n",
        "# 找到第一个Level,这些level drop first之后不会再出现, 而成为了我们的reference level(baseline,基准线)\n",
        "print(data_categorical.apply(lambda x:x.cat.categories[0]))"
      ],
      "execution_count": null,
      "outputs": [
        {
          "output_type": "stream",
          "text": [
            "/usr/local/lib/python3.7/dist-packages/statsmodels/tools/_testing.py:19: FutureWarning: pandas.util.testing is deprecated. Use the functions in the public API at pandas.testing instead.\n",
            "  import pandas.util.testing as tm\n"
          ],
          "name": "stderr"
        },
        {
          "output_type": "stream",
          "text": [
            "email_text       long_email\n",
            "email_version       generic\n",
            "weekday              Friday\n",
            "user_country             ES\n",
            "dtype: object\n"
          ],
          "name": "stdout"
        }
      ]
    },
    {
      "cell_type": "code",
      "metadata": {
        "id": "1dsuySaeCCu-"
      },
      "source": [
        "# data_categorical.apply(lambda x:x.cat.categories[2])"
      ],
      "execution_count": null,
      "outputs": []
    },
    {
      "cell_type": "code",
      "metadata": {
        "colab": {
          "base_uri": "https://localhost:8080/"
        },
        "id": "dFDTCtfzgRGO",
        "outputId": "f165649a-6fee-4013-fad0-5af01aa4ebdf"
      },
      "source": [
        "data=pandas.get_dummies(data,drop_first=True)\n",
        "#加一个intercept\n",
        "data['intercept']=1\n",
        "# drop label\n",
        "train_cols = data.drop('clicked',axis=1)\n",
        "\n",
        "#build logistic regression\n",
        "logit = sm.Logit(data['clicked'],train_cols)\n",
        "output=logit.fit()"
      ],
      "execution_count": null,
      "outputs": [
        {
          "output_type": "stream",
          "text": [
            "Optimization terminated successfully.\n",
            "         Current function value: 0.092770\n",
            "         Iterations 9\n"
          ],
          "name": "stdout"
        }
      ]
    },
    {
      "cell_type": "code",
      "metadata": {
        "colab": {
          "base_uri": "https://localhost:8080/"
        },
        "id": "FJjftK-ggW8b",
        "outputId": "c5fe8acd-9f07-4ad4-aa9d-d75a17cfc50f"
      },
      "source": [
        "#找coefficient\n",
        "\n",
        "output_table=pandas.DataFrame(dict(coefficients=output.params,SE=output.bse,z=output.tvalues,p_values=output.pvalues))\n",
        "print(output_table)"
      ],
      "execution_count": null,
      "outputs": [
        {
          "output_type": "stream",
          "text": [
            "                            coefficients  ...       p_values\n",
            "email_id                   -3.848609e-08  ...   6.208432e-01\n",
            "hour                        1.670684e-02  ...   8.455247e-04\n",
            "user_past_purchases         1.878107e-01  ...  5.725039e-236\n",
            "email_text_short_email      2.793085e-01  ...   7.043829e-10\n",
            "email_version_personalized  6.387251e-01  ...   3.277989e-42\n",
            "weekday_Monday              5.410326e-01  ...   6.954864e-09\n",
            "weekday_Saturday            2.828638e-01  ...   3.816190e-03\n",
            "weekday_Sunday              1.836278e-01  ...   6.664099e-02\n",
            "weekday_Thursday            6.254040e-01  ...   1.262790e-11\n",
            "weekday_Tuesday             6.162222e-01  ...   2.539336e-11\n",
            "weekday_Wednesday           7.554637e-01  ...   9.102053e-17\n",
            "user_country_FR            -7.864563e-02  ...   6.286097e-01\n",
            "user_country_UK             1.155255e+00  ...   2.946372e-21\n",
            "user_country_US             1.141360e+00  ...   7.386228e-23\n",
            "intercept                  -6.880922e+00  ...   0.000000e+00\n",
            "\n",
            "[15 rows x 4 columns]\n"
          ],
          "name": "stdout"
        }
      ]
    },
    {
      "cell_type": "code",
      "metadata": {
        "colab": {
          "base_uri": "https://localhost:8080/"
        },
        "id": "n8NSECl3gnYB",
        "outputId": "a060741d-8c97-4eb8-fea1-4600e2194428"
      },
      "source": [
        "#找到重要的\n",
        "print(output_table.loc[output_table['p_values']<0.05].sort_values('coefficients',ascending=False))"
      ],
      "execution_count": null,
      "outputs": [
        {
          "output_type": "stream",
          "text": [
            "                            coefficients        SE          z       p_values\n",
            "user_country_UK                 1.155255  0.122060   9.464618   2.946372e-21\n",
            "user_country_US                 1.141360  0.115963   9.842487   7.386228e-23\n",
            "weekday_Wednesday               0.755464  0.090845   8.315950   9.102053e-17\n",
            "email_version_personalized      0.638725  0.046915  13.614631   3.277989e-42\n",
            "weekday_Thursday                0.625404  0.092340   6.772839   1.262790e-11\n",
            "weekday_Tuesday                 0.616222  0.092372   6.671077   2.539336e-11\n",
            "weekday_Monday                  0.541033  0.093410   5.792011   6.954864e-09\n",
            "weekday_Saturday                0.282864  0.097776   2.892969   3.816190e-03\n",
            "email_text_short_email          0.279308  0.045305   6.165101   7.043829e-10\n",
            "user_past_purchases             0.187811  0.005726  32.800855  5.725039e-236\n",
            "hour                            0.016707  0.005006   3.337445   8.455247e-04\n",
            "intercept                      -6.880922  0.156067 -44.089646   0.000000e+00\n"
          ],
          "name": "stdout"
        }
      ]
    },
    {
      "cell_type": "markdown",
      "metadata": {
        "id": "PD2NE5GugqeN"
      },
      "source": [
        "Understanding the output\n",
        "\n",
        "●\tCategorical Variables\n",
        "\n",
        "\n",
        "○\tAll categorical variables are encoded via one-hot encoding. If there are n levels within a categorical variable, we are creating n-1 dummy variables. The remaining level is the reference level or baseline\n",
        "\n",
        "○\tFor instance, weekday has 6 levels in the regression: Monday, Saturday, Sunday, Thursday, Tuesday, and Wednesday. The missing one Friday is the baseline\n",
        "\n",
        "○\tThe way to interpret the outcome for categorical variables is that the coefficient of those levels is relative to the missing level. All days are better than Friday, although Sunday is not statistically significantly better\n",
        "\n",
        "○\tIf you see all negative (positive) and significant coefficients for a given categorical variable doesn’t mean that they are all bad (good) in absolute terms. It simply means that they are all worse (better) than the reference level.. RELATIVELY...\n",
        "\n",
        "○\tThere are quite a few cases in which you want to specifically set the reference level. For instance, when you have one level which is by far the most common and you want to compare all other levels against that. This is especially common if you are looking for growth opportunities. Let’s take country as an example, you might want your most important country as reference level. Or if you are looking into new marketing channels to see which one is the most promising one, it would be beneficial to compare them against your current best one. The resulting levels with positive and significant coefficients would be a goldmine of information from a growth standpoint\n",
        "\n",
        "\n",
        "\n",
        "●\tGeneral Insights\n",
        "\n",
        "\n",
        "○\tUser country seems very important. Especially interesting is that English speaking countries (US, UK) are doing significantly better than non-English speaking countries (ES, FR). That could mean a bad translation or in general a non-localized version of the email. The first thing you want to do here is probably getting in touch with the international team and asking them to review French and Spanish email templates\n",
        "\n",
        "○\tNot surprisingly, all weekday coefficients are positive. Sunday is (barely) non-significant, all others are significant. This is a consequence of having Friday as reference level. It is a well-known fact that sending marketing emails on Friday is not a great idea. Wednesday seems to be the best day, but in general all week days (Monday-Thursday) perform similarly. Friday - Sunday are much worse. The company should probably start sending emails only Monday-Thursday, with a particular focus on the middle of the week\n",
        "\n",
        "○\tPersonalized emails are doing better. So the company should stop sending generic emails. But most importantly, this can be a huge insight from a product standpoint. If just adding the name at the top is increasing clicks significantly, imagine what would happen with even more personalization. Definitely worth investing in this\n",
        "\n",
        "○\tSending short emails appears to be better, but personalizing emails should be the priority vs finding a general optimal email template that on an average works best for everyone (see much lower coefficient compared to the personalization one)\n",
        "\n",
        "○\tHour perfectly emphasizes the problems of logistic regressions with numerical variables. The best time is likely during the day and early mornings and late nights are probably bad. But the model is trying to find a linear relationship between hour and the output. In most cases, this means that will not find a significant relationship. If it does find significance, the results would be highly misleading. Like in this case, it is telling us that the larger the value of hour, the better it is. So the best time would be 24 (midnight)! To solve this, you should manually create segments (i.e. indicator variables) before building the model. One segment could be night time, one morning to noon, etc.\n",
        "\n",
        "○\tEmail_id is not significant, but the p-value is not that high either, so it is something to keep in mind. Email_id could be interesting because it can be seen as a proxy for time, i.e. the first email sent gets id 1, second id 2, etc. So a significant and negative coefficient would mean that as time goes by, less and less people are clicking on the email. This could be a big red flag, like for instance Google started labeling us as spam. It doesn’t look like the case here, but still, it is something to keep in mind\n",
        "\n",
        "○\tMore importantly, note the super low coefficient for email_id compared to the other ones. That doesn’t mean that the variable is irrelevant. The super low coefficient simply depends on the fact that email_id scale is way larger than the other variables. The max value of all other variables is 24 for hour. The max value of email_id is 100K! So the low coefficient is meant to balance the different scale, otherwise email_id would entirely drive the regression output.\n",
        "\n",
        "○\tDONT THINK TOO MUCH ON THIS POINT(The intercept highly negative and significant is the regression outcome if all variables are set to zero. So, basically, categorical variables are all set to their reference levels and numerical variables are set to 0. Intercepts are almost always negative and significant given that in the majority of cases you are dealing with imbalanced classes, where 1s are <5% of the events. And in a logistic regression a negative outcome means higher probability of predicting class zero. Don’t read too much into it. After all, the all-values-are-0 scenario is unrealistic at best, and often impossible. Like here “hour” is coded as from 1 to 24, so it cannot even have the value 0! Only thing, looking at the scale of the intercept vs the scale of the other coefficients * the possible values of those variables can be useful to get a sense of by how much you can affect the output)\n",
        "\n",
        "■\t-> If I send emails on Wednesday, that variable value becomes 0.7 (i.e. 0.7 coefficient times the value of the variable that would be 1) which is pretty high relative to the -6.8 intercept. So opportunities of meaningful improvements are there. Imagine my intercept were -1000 and Wednesday coefficient were the same. Then optimizing the day would be almost irrelevant from a practical standpoint.\n",
        "\n",
        "\n",
        "Pros and Cons\n",
        "#Pros of using logistic regression coefficients to extract insights from data\n",
        "✓ Pretty much anyone in a technical or product management role in a tech company is familiar with logistic regressions (if this is not true at your company, you are probably working in the wrong place). It is so much easier to present data science work if the audience is already familiar with the techniques used\n",
        "\n",
        "✓ Logistic regressions are by far the most used model in production. Despite all the blog posts, conference talks, etc. about deep learning, it is almost guaranteed that a consumer tech company most important model in production will be a logistic regression. Therefore, it will be easy to collaborate with engineers (i.e. leveraging prior work done by them, helping them improve their model, etc.)\n",
        "\n",
        "✓ It is simple, fast, and generally reliable. Indeed, building the model is straightforward. The model works well in the majority of cases and all you have to do is look at the coefficient values and their p-values\n",
        "\n",
        "\n",
        "\n",
        "\n",
        "#Cons of using logistic regression coefficients to extract insights from data\n",
        "✓ Coefficients give an idea of the impact of each variable on the output. But it is actually pretty hard to exactly visualize what that means. I.e., a change in a given variable by one unit changes the log odds ratio by ββ units, where ββ is the coefficient. Mmh…\n",
        "\n",
        "✓ Coefficients do not allow to segment a variable. For instance, a positive coefficient in front of variable age means that as age increases, the output keeps increasing as well. Always. This is unlikely to be true for most numerical variables. You often need to create segments before building the regression (btw RuleFit solves exactly this problem)\n",
        "\n",
        "✓ Coefficient meaning in front of a categorical variable with several levels can be confusing. You change a given variable reference level and all other level coefficients change\n",
        "\n",
        "✓ The absolute value of a coefficient is often used to quickly estimate variable importance. However, that depends on the variable scale more than anything else. You could normalize variables, so they are all on the same scale. But that’s rarely a good idea if your goal is presenting to product people. It is hard to get a product manager excited by saying: “If we increase variable X by one standard deviation, we could achieve this and that”\"\n"
      ]
    },
    {
      "cell_type": "markdown",
      "metadata": {
        "id": "wfNU_oQPguVe"
      },
      "source": [
        "# Build Decision Trees"
      ]
    },
    {
      "cell_type": "code",
      "metadata": {
        "id": "Bw6cxwFzgoZL"
      },
      "source": [
        "import pandas\n",
        "import graphviz \n",
        "from sklearn.tree import DecisionTreeClassifier \n",
        "from sklearn.tree import export_graphviz \n",
        "from graphviz import Source #Read from google drive. Always the same dataset"
      ],
      "execution_count": null,
      "outputs": []
    },
    {
      "cell_type": "code",
      "metadata": {
        "colab": {
          "base_uri": "https://localhost:8080/",
          "height": 870
        },
        "id": "-nJ8xXI7gvoJ",
        "outputId": "e0eef88f-3c5d-4d4c-db38-81752f97641f"
      },
      "source": [
        "data = pandas.read_csv('https://drive.google.com/uc?export=download&id=1PXjbqSMu__d_ppEv92i_Gnx3kKgfvhFk') \n",
        "data_dummy = pandas.get_dummies(data, drop_first=True) \n",
        "train_cols = data_dummy.drop('clicked', axis=1)\n",
        "#build the tree\n",
        "\n",
        "tree=DecisionTreeClassifier(\n",
        "    #set max tree dept at 4. Bigger than that it just becomes too messy \n",
        "    max_depth=4,\n",
        "    #change weights given that we have unbalanced classes. Our data set is now perfectly balanced. It makes easier to look at tree output \n",
        "    class_weight=\"balanced\", #only split if it's worthwhile. The default value of 0 means always split no matter what if you can increase overall performance, which might lead to irrelevant splits \n",
        "    min_impurity_decrease = 0.001 ) \n",
        "tree.fit(train_cols,data_dummy['clicked']) #visualize it \n",
        "export_graphviz(tree, out_file=\"tree.dot\", feature_names=train_cols.columns, proportion=True, rotate=True) \n",
        "with open(\"tree.dot\") as f:\n",
        "  dot_graph = f.read()\n",
        "s = Source.from_file(\"tree.dot\") \n"
      ],
      "execution_count": null,
      "outputs": [
        {
          "output_type": "execute_result",
          "data": {
            "text/plain": [
              "<graphviz.files.Source at 0x7f92bcc4d350>"
            ],
            "image/svg+xml": "<?xml version=\"1.0\" encoding=\"UTF-8\" standalone=\"no\"?>\n<!DOCTYPE svg PUBLIC \"-//W3C//DTD SVG 1.1//EN\"\n \"http://www.w3.org/Graphics/SVG/1.1/DTD/svg11.dtd\">\n<!-- Generated by graphviz version 2.40.1 (20161225.0304)\n -->\n<!-- Title: Tree Pages: 1 -->\n<svg width=\"1045pt\" height=\"637pt\"\n viewBox=\"0.00 0.00 1045.00 637.00\" xmlns=\"http://www.w3.org/2000/svg\" xmlns:xlink=\"http://www.w3.org/1999/xlink\">\n<g id=\"graph0\" class=\"graph\" transform=\"scale(1 1) rotate(0) translate(4 633)\">\n<title>Tree</title>\n<polygon fill=\"#ffffff\" stroke=\"transparent\" points=\"-4,4 -4,-633 1041,-633 1041,4 -4,4\"/>\n<!-- 0 -->\n<g id=\"node1\" class=\"node\">\n<title>0</title>\n<polygon fill=\"none\" stroke=\"#000000\" points=\"176,-359.5 0,-359.5 0,-291.5 176,-291.5 176,-359.5\"/>\n<text text-anchor=\"middle\" x=\"88\" y=\"-344.3\" font-family=\"Times,serif\" font-size=\"14.00\" fill=\"#000000\">user_past_purchases &lt;= 3.5</text>\n<text text-anchor=\"middle\" x=\"88\" y=\"-329.3\" font-family=\"Times,serif\" font-size=\"14.00\" fill=\"#000000\">gini = 0.5</text>\n<text text-anchor=\"middle\" x=\"88\" y=\"-314.3\" font-family=\"Times,serif\" font-size=\"14.00\" fill=\"#000000\">samples = 100.0%</text>\n<text text-anchor=\"middle\" x=\"88\" y=\"-299.3\" font-family=\"Times,serif\" font-size=\"14.00\" fill=\"#000000\">value = [0.5, 0.5]</text>\n</g>\n<!-- 1 -->\n<g id=\"node2\" class=\"node\">\n<title>1</title>\n<polygon fill=\"none\" stroke=\"#000000\" points=\"388,-451.5 212,-451.5 212,-383.5 388,-383.5 388,-451.5\"/>\n<text text-anchor=\"middle\" x=\"300\" y=\"-436.3\" font-family=\"Times,serif\" font-size=\"14.00\" fill=\"#000000\">user_past_purchases &lt;= 0.5</text>\n<text text-anchor=\"middle\" x=\"300\" y=\"-421.3\" font-family=\"Times,serif\" font-size=\"14.00\" fill=\"#000000\">gini = 0.44</text>\n<text text-anchor=\"middle\" x=\"300\" y=\"-406.3\" font-family=\"Times,serif\" font-size=\"14.00\" fill=\"#000000\">samples = 52.7%</text>\n<text text-anchor=\"middle\" x=\"300\" y=\"-391.3\" font-family=\"Times,serif\" font-size=\"14.00\" fill=\"#000000\">value = [0.674, 0.326]</text>\n</g>\n<!-- 0&#45;&gt;1 -->\n<g id=\"edge1\" class=\"edge\">\n<title>0&#45;&gt;1</title>\n<path fill=\"none\" stroke=\"#000000\" d=\"M166.6397,-359.6267C181.4726,-366.0636 197.0727,-372.8334 212.1663,-379.3835\"/>\n<polygon fill=\"#000000\" stroke=\"#000000\" points=\"210.9205,-382.6582 221.4873,-383.4285 213.7072,-376.2368 210.9205,-382.6582\"/>\n<text text-anchor=\"middle\" x=\"198.2334\" y=\"-388.9076\" font-family=\"Times,serif\" font-size=\"14.00\" fill=\"#000000\">True</text>\n</g>\n<!-- 10 -->\n<g id=\"node11\" class=\"node\">\n<title>10</title>\n<polygon fill=\"none\" stroke=\"#000000\" points=\"388,-256.5 212,-256.5 212,-188.5 388,-188.5 388,-256.5\"/>\n<text text-anchor=\"middle\" x=\"300\" y=\"-241.3\" font-family=\"Times,serif\" font-size=\"14.00\" fill=\"#000000\">user_past_purchases &lt;= 7.5</text>\n<text text-anchor=\"middle\" x=\"300\" y=\"-226.3\" font-family=\"Times,serif\" font-size=\"14.00\" fill=\"#000000\">gini = 0.474</text>\n<text text-anchor=\"middle\" x=\"300\" y=\"-211.3\" font-family=\"Times,serif\" font-size=\"14.00\" fill=\"#000000\">samples = 47.3%</text>\n<text text-anchor=\"middle\" x=\"300\" y=\"-196.3\" font-family=\"Times,serif\" font-size=\"14.00\" fill=\"#000000\">value = [0.386, 0.614]</text>\n</g>\n<!-- 0&#45;&gt;10 -->\n<g id=\"edge10\" class=\"edge\">\n<title>0&#45;&gt;10</title>\n<path fill=\"none\" stroke=\"#000000\" d=\"M158.0043,-291.4885C178.0708,-281.7392 200.0902,-271.0411 220.6743,-261.0403\"/>\n<polygon fill=\"#000000\" stroke=\"#000000\" points=\"222.2422,-264.1698 229.7073,-256.6516 219.1831,-257.8736 222.2422,-264.1698\"/>\n<text text-anchor=\"middle\" x=\"206.0817\" y=\"-244.7765\" font-family=\"Times,serif\" font-size=\"14.00\" fill=\"#000000\">False</text>\n</g>\n<!-- 2 -->\n<g id=\"node3\" class=\"node\">\n<title>2</title>\n<polygon fill=\"none\" stroke=\"#000000\" points=\"606.5,-523 459.5,-523 459.5,-470 606.5,-470 606.5,-523\"/>\n<text text-anchor=\"middle\" x=\"533\" y=\"-507.8\" font-family=\"Times,serif\" font-size=\"14.00\" fill=\"#000000\">gini = 0.013</text>\n<text text-anchor=\"middle\" x=\"533\" y=\"-492.8\" font-family=\"Times,serif\" font-size=\"14.00\" fill=\"#000000\">samples = 13.9%</text>\n<text text-anchor=\"middle\" x=\"533\" y=\"-477.8\" font-family=\"Times,serif\" font-size=\"14.00\" fill=\"#000000\">value = [0.993, 0.007]</text>\n</g>\n<!-- 1&#45;&gt;2 -->\n<g id=\"edge2\" class=\"edge\">\n<title>1&#45;&gt;2</title>\n<path fill=\"none\" stroke=\"#000000\" d=\"M388.0066,-448.1985C400.0904,-452.3609 412.3455,-456.5549 424,-460.5 432.2977,-463.3088 440.9595,-466.2144 449.6158,-469.1008\"/>\n<polygon fill=\"#000000\" stroke=\"#000000\" points=\"448.7734,-472.5091 459.367,-472.3453 450.9834,-465.8671 448.7734,-472.5091\"/>\n</g>\n<!-- 3 -->\n<g id=\"node4\" class=\"node\">\n<title>3</title>\n<polygon fill=\"none\" stroke=\"#000000\" points=\"642,-451.5 424,-451.5 424,-383.5 642,-383.5 642,-451.5\"/>\n<text text-anchor=\"middle\" x=\"533\" y=\"-436.3\" font-family=\"Times,serif\" font-size=\"14.00\" fill=\"#000000\">email_version_personalized &lt;= 0.5</text>\n<text text-anchor=\"middle\" x=\"533\" y=\"-421.3\" font-family=\"Times,serif\" font-size=\"14.00\" fill=\"#000000\">gini = 0.479</text>\n<text text-anchor=\"middle\" x=\"533\" y=\"-406.3\" font-family=\"Times,serif\" font-size=\"14.00\" fill=\"#000000\">samples = 38.9%</text>\n<text text-anchor=\"middle\" x=\"533\" y=\"-391.3\" font-family=\"Times,serif\" font-size=\"14.00\" fill=\"#000000\">value = [0.604, 0.396]</text>\n</g>\n<!-- 1&#45;&gt;3 -->\n<g id=\"edge3\" class=\"edge\">\n<title>1&#45;&gt;3</title>\n<path fill=\"none\" stroke=\"#000000\" d=\"M388.0873,-417.5C396.5162,-417.5 405.1565,-417.5 413.8165,-417.5\"/>\n<polygon fill=\"#000000\" stroke=\"#000000\" points=\"413.9802,-421.0001 423.9802,-417.5 413.9802,-414.0001 413.9802,-421.0001\"/>\n</g>\n<!-- 4 -->\n<g id=\"node5\" class=\"node\">\n<title>4</title>\n<polygon fill=\"none\" stroke=\"#000000\" points=\"846,-565.5 686,-565.5 686,-497.5 846,-497.5 846,-565.5\"/>\n<text text-anchor=\"middle\" x=\"766\" y=\"-550.3\" font-family=\"Times,serif\" font-size=\"14.00\" fill=\"#000000\">user_country_FR &lt;= 0.5</text>\n<text text-anchor=\"middle\" x=\"766\" y=\"-535.3\" font-family=\"Times,serif\" font-size=\"14.00\" fill=\"#000000\">gini = 0.413</text>\n<text text-anchor=\"middle\" x=\"766\" y=\"-520.3\" font-family=\"Times,serif\" font-size=\"14.00\" fill=\"#000000\">samples = 19.5%</text>\n<text text-anchor=\"middle\" x=\"766\" y=\"-505.3\" font-family=\"Times,serif\" font-size=\"14.00\" fill=\"#000000\">value = [0.708, 0.292]</text>\n</g>\n<!-- 3&#45;&gt;4 -->\n<g id=\"edge4\" class=\"edge\">\n<title>3&#45;&gt;4</title>\n<path fill=\"none\" stroke=\"#000000\" d=\"M620.3083,-451.5597C627.6989,-454.8002 635.0132,-458.1354 642,-461.5 661.324,-470.8058 681.7923,-481.844 700.4097,-492.3716\"/>\n<polygon fill=\"#000000\" stroke=\"#000000\" points=\"698.6827,-495.4158 709.1039,-497.326 702.1485,-489.334 698.6827,-495.4158\"/>\n</g>\n<!-- 7 -->\n<g id=\"node8\" class=\"node\">\n<title>7</title>\n<polygon fill=\"none\" stroke=\"#000000\" points=\"846,-451.5 686,-451.5 686,-383.5 846,-383.5 846,-451.5\"/>\n<text text-anchor=\"middle\" x=\"766\" y=\"-436.3\" font-family=\"Times,serif\" font-size=\"14.00\" fill=\"#000000\">user_country_FR &lt;= 0.5</text>\n<text text-anchor=\"middle\" x=\"766\" y=\"-421.3\" font-family=\"Times,serif\" font-size=\"14.00\" fill=\"#000000\">gini = 0.499</text>\n<text text-anchor=\"middle\" x=\"766\" y=\"-406.3\" font-family=\"Times,serif\" font-size=\"14.00\" fill=\"#000000\">samples = 19.4%</text>\n<text text-anchor=\"middle\" x=\"766\" y=\"-391.3\" font-family=\"Times,serif\" font-size=\"14.00\" fill=\"#000000\">value = [0.525, 0.475]</text>\n</g>\n<!-- 3&#45;&gt;7 -->\n<g id=\"edge7\" class=\"edge\">\n<title>3&#45;&gt;7</title>\n<path fill=\"none\" stroke=\"#000000\" d=\"M642.3365,-417.5C653.4471,-417.5 664.6448,-417.5 675.5236,-417.5\"/>\n<polygon fill=\"#000000\" stroke=\"#000000\" points=\"675.8427,-421.0001 685.8426,-417.5 675.8426,-414.0001 675.8427,-421.0001\"/>\n</g>\n<!-- 5 -->\n<g id=\"node6\" class=\"node\">\n<title>5</title>\n<polygon fill=\"none\" stroke=\"#000000\" points=\"1036.5,-629 890.5,-629 890.5,-576 1036.5,-576 1036.5,-629\"/>\n<text text-anchor=\"middle\" x=\"963.5\" y=\"-613.8\" font-family=\"Times,serif\" font-size=\"14.00\" fill=\"#000000\">gini = 0.429</text>\n<text text-anchor=\"middle\" x=\"963.5\" y=\"-598.8\" font-family=\"Times,serif\" font-size=\"14.00\" fill=\"#000000\">samples = 17.5%</text>\n<text text-anchor=\"middle\" x=\"963.5\" y=\"-583.8\" font-family=\"Times,serif\" font-size=\"14.00\" fill=\"#000000\">value = [0.689, 0.311]</text>\n</g>\n<!-- 4&#45;&gt;5 -->\n<g id=\"edge5\" class=\"edge\">\n<title>4&#45;&gt;5</title>\n<path fill=\"none\" stroke=\"#000000\" d=\"M846.0461,-560.2761C857.4906,-564.3903 869.283,-568.6296 880.7777,-572.7619\"/>\n<polygon fill=\"#000000\" stroke=\"#000000\" points=\"879.7546,-576.1133 890.3491,-576.2027 882.1227,-569.526 879.7546,-576.1133\"/>\n</g>\n<!-- 6 -->\n<g id=\"node7\" class=\"node\">\n<title>6</title>\n<polygon fill=\"none\" stroke=\"#000000\" points=\"1037,-558 890,-558 890,-505 1037,-505 1037,-558\"/>\n<text text-anchor=\"middle\" x=\"963.5\" y=\"-542.8\" font-family=\"Times,serif\" font-size=\"14.00\" fill=\"#000000\">gini = 0.088</text>\n<text text-anchor=\"middle\" x=\"963.5\" y=\"-527.8\" font-family=\"Times,serif\" font-size=\"14.00\" fill=\"#000000\">samples = 2.0%</text>\n<text text-anchor=\"middle\" x=\"963.5\" y=\"-512.8\" font-family=\"Times,serif\" font-size=\"14.00\" fill=\"#000000\">value = [0.954, 0.046]</text>\n</g>\n<!-- 4&#45;&gt;6 -->\n<g id=\"edge6\" class=\"edge\">\n<title>4&#45;&gt;6</title>\n<path fill=\"none\" stroke=\"#000000\" d=\"M846.0461,-531.5C857.098,-531.5 868.4743,-531.5 879.5937,-531.5\"/>\n<polygon fill=\"#000000\" stroke=\"#000000\" points=\"879.7164,-535.0001 889.7164,-531.5 879.7164,-528.0001 879.7164,-535.0001\"/>\n</g>\n<!-- 8 -->\n<g id=\"node9\" class=\"node\">\n<title>8</title>\n<polygon fill=\"none\" stroke=\"#000000\" points=\"1037,-487 890,-487 890,-434 1037,-434 1037,-487\"/>\n<text text-anchor=\"middle\" x=\"963.5\" y=\"-471.8\" font-family=\"Times,serif\" font-size=\"14.00\" fill=\"#000000\">gini = 0.5</text>\n<text text-anchor=\"middle\" x=\"963.5\" y=\"-456.8\" font-family=\"Times,serif\" font-size=\"14.00\" fill=\"#000000\">samples = 17.4%</text>\n<text text-anchor=\"middle\" x=\"963.5\" y=\"-441.8\" font-family=\"Times,serif\" font-size=\"14.00\" fill=\"#000000\">value = [0.504, 0.496]</text>\n</g>\n<!-- 7&#45;&gt;8 -->\n<g id=\"edge8\" class=\"edge\">\n<title>7&#45;&gt;8</title>\n<path fill=\"none\" stroke=\"#000000\" d=\"M846.0461,-434.9278C857.2108,-437.3585 868.7065,-439.8614 879.934,-442.3059\"/>\n<polygon fill=\"#000000\" stroke=\"#000000\" points=\"879.2007,-445.7281 889.7164,-444.4357 880.6899,-438.8884 879.2007,-445.7281\"/>\n</g>\n<!-- 9 -->\n<g id=\"node10\" class=\"node\">\n<title>9</title>\n<polygon fill=\"none\" stroke=\"#000000\" points=\"1037,-416 890,-416 890,-363 1037,-363 1037,-416\"/>\n<text text-anchor=\"middle\" x=\"963.5\" y=\"-400.8\" font-family=\"Times,serif\" font-size=\"14.00\" fill=\"#000000\">gini = 0.296</text>\n<text text-anchor=\"middle\" x=\"963.5\" y=\"-385.8\" font-family=\"Times,serif\" font-size=\"14.00\" fill=\"#000000\">samples = 1.9%</text>\n<text text-anchor=\"middle\" x=\"963.5\" y=\"-370.8\" font-family=\"Times,serif\" font-size=\"14.00\" fill=\"#000000\">value = [0.819, 0.181]</text>\n</g>\n<!-- 7&#45;&gt;9 -->\n<g id=\"edge9\" class=\"edge\">\n<title>7&#45;&gt;9</title>\n<path fill=\"none\" stroke=\"#000000\" d=\"M846.0461,-406.1517C857.098,-404.5848 868.4743,-402.972 879.5937,-401.3956\"/>\n<polygon fill=\"#000000\" stroke=\"#000000\" points=\"880.3067,-404.8296 889.7164,-399.9605 879.3241,-397.8989 880.3067,-404.8296\"/>\n</g>\n<!-- 11 -->\n<g id=\"node12\" class=\"node\">\n<title>11</title>\n<polygon fill=\"none\" stroke=\"#000000\" points=\"642,-256.5 424,-256.5 424,-188.5 642,-188.5 642,-256.5\"/>\n<text text-anchor=\"middle\" x=\"533\" y=\"-241.3\" font-family=\"Times,serif\" font-size=\"14.00\" fill=\"#000000\">email_version_personalized &lt;= 0.5</text>\n<text text-anchor=\"middle\" x=\"533\" y=\"-226.3\" font-family=\"Times,serif\" font-size=\"14.00\" fill=\"#000000\">gini = 0.495</text>\n<text text-anchor=\"middle\" x=\"533\" y=\"-211.3\" font-family=\"Times,serif\" font-size=\"14.00\" fill=\"#000000\">samples = 33.3%</text>\n<text text-anchor=\"middle\" x=\"533\" y=\"-196.3\" font-family=\"Times,serif\" font-size=\"14.00\" fill=\"#000000\">value = [0.451, 0.549]</text>\n</g>\n<!-- 10&#45;&gt;11 -->\n<g id=\"edge11\" class=\"edge\">\n<title>10&#45;&gt;11</title>\n<path fill=\"none\" stroke=\"#000000\" d=\"M388.0873,-222.5C396.5162,-222.5 405.1565,-222.5 413.8165,-222.5\"/>\n<polygon fill=\"#000000\" stroke=\"#000000\" points=\"413.9802,-226.0001 423.9802,-222.5 413.9802,-219.0001 413.9802,-226.0001\"/>\n</g>\n<!-- 18 -->\n<g id=\"node19\" class=\"node\">\n<title>18</title>\n<polygon fill=\"none\" stroke=\"#000000\" points=\"642,-131.5 424,-131.5 424,-63.5 642,-63.5 642,-131.5\"/>\n<text text-anchor=\"middle\" x=\"533\" y=\"-116.3\" font-family=\"Times,serif\" font-size=\"14.00\" fill=\"#000000\">email_version_personalized &lt;= 0.5</text>\n<text text-anchor=\"middle\" x=\"533\" y=\"-101.3\" font-family=\"Times,serif\" font-size=\"14.00\" fill=\"#000000\">gini = 0.408</text>\n<text text-anchor=\"middle\" x=\"533\" y=\"-86.3\" font-family=\"Times,serif\" font-size=\"14.00\" fill=\"#000000\">samples = 13.9%</text>\n<text text-anchor=\"middle\" x=\"533\" y=\"-71.3\" font-family=\"Times,serif\" font-size=\"14.00\" fill=\"#000000\">value = [0.286, 0.714]</text>\n</g>\n<!-- 10&#45;&gt;18 -->\n<g id=\"edge18\" class=\"edge\">\n<title>10&#45;&gt;18</title>\n<path fill=\"none\" stroke=\"#000000\" d=\"M363.6683,-188.3432C393.5911,-172.2902 429.4135,-153.0722 460.388,-136.4549\"/>\n<polygon fill=\"#000000\" stroke=\"#000000\" points=\"462.2513,-139.4272 469.4087,-131.6155 458.9421,-133.2588 462.2513,-139.4272\"/>\n</g>\n<!-- 12 -->\n<g id=\"node13\" class=\"node\">\n<title>12</title>\n<polygon fill=\"none\" stroke=\"#000000\" points=\"854,-296.5 678,-296.5 678,-228.5 854,-228.5 854,-296.5\"/>\n<text text-anchor=\"middle\" x=\"766\" y=\"-281.3\" font-family=\"Times,serif\" font-size=\"14.00\" fill=\"#000000\">user_past_purchases &lt;= 5.5</text>\n<text text-anchor=\"middle\" x=\"766\" y=\"-266.3\" font-family=\"Times,serif\" font-size=\"14.00\" fill=\"#000000\">gini = 0.497</text>\n<text text-anchor=\"middle\" x=\"766\" y=\"-251.3\" font-family=\"Times,serif\" font-size=\"14.00\" fill=\"#000000\">samples = 16.8%</text>\n<text text-anchor=\"middle\" x=\"766\" y=\"-236.3\" font-family=\"Times,serif\" font-size=\"14.00\" fill=\"#000000\">value = [0.538, 0.462]</text>\n</g>\n<!-- 11&#45;&gt;12 -->\n<g id=\"edge12\" class=\"edge\">\n<title>11&#45;&gt;12</title>\n<path fill=\"none\" stroke=\"#000000\" d=\"M642.3365,-241.2702C650.9198,-242.7437 659.5551,-244.2262 668.0551,-245.6854\"/>\n<polygon fill=\"#000000\" stroke=\"#000000\" points=\"667.512,-249.1433 677.96,-247.3858 668.6964,-242.2442 667.512,-249.1433\"/>\n</g>\n<!-- 15 -->\n<g id=\"node16\" class=\"node\">\n<title>15</title>\n<polygon fill=\"none\" stroke=\"#000000\" points=\"846,-210.5 686,-210.5 686,-142.5 846,-142.5 846,-210.5\"/>\n<text text-anchor=\"middle\" x=\"766\" y=\"-195.3\" font-family=\"Times,serif\" font-size=\"14.00\" fill=\"#000000\">user_country_FR &lt;= 0.5</text>\n<text text-anchor=\"middle\" x=\"766\" y=\"-180.3\" font-family=\"Times,serif\" font-size=\"14.00\" fill=\"#000000\">gini = 0.474</text>\n<text text-anchor=\"middle\" x=\"766\" y=\"-165.3\" font-family=\"Times,serif\" font-size=\"14.00\" fill=\"#000000\">samples = 16.5%</text>\n<text text-anchor=\"middle\" x=\"766\" y=\"-150.3\" font-family=\"Times,serif\" font-size=\"14.00\" fill=\"#000000\">value = [0.386, 0.614]</text>\n</g>\n<!-- 11&#45;&gt;15 -->\n<g id=\"edge15\" class=\"edge\">\n<title>11&#45;&gt;15</title>\n<path fill=\"none\" stroke=\"#000000\" d=\"M642.3365,-200.9142C653.5616,-198.6981 664.8757,-196.4644 675.8599,-194.2959\"/>\n<polygon fill=\"#000000\" stroke=\"#000000\" points=\"676.7099,-197.6957 685.8426,-192.3251 675.3541,-190.8283 676.7099,-197.6957\"/>\n</g>\n<!-- 13 -->\n<g id=\"node14\" class=\"node\">\n<title>13</title>\n<polygon fill=\"none\" stroke=\"#000000\" points=\"1037,-345 890,-345 890,-292 1037,-292 1037,-345\"/>\n<text text-anchor=\"middle\" x=\"963.5\" y=\"-329.8\" font-family=\"Times,serif\" font-size=\"14.00\" fill=\"#000000\">gini = 0.483</text>\n<text text-anchor=\"middle\" x=\"963.5\" y=\"-314.8\" font-family=\"Times,serif\" font-size=\"14.00\" fill=\"#000000\">samples = 10.0%</text>\n<text text-anchor=\"middle\" x=\"963.5\" y=\"-299.8\" font-family=\"Times,serif\" font-size=\"14.00\" fill=\"#000000\">value = [0.593, 0.407]</text>\n</g>\n<!-- 12&#45;&gt;13 -->\n<g id=\"edge13\" class=\"edge\">\n<title>12&#45;&gt;13</title>\n<path fill=\"none\" stroke=\"#000000\" d=\"M854.0643,-287.4701C862.7338,-289.9283 871.5146,-292.4181 880.1349,-294.8623\"/>\n<polygon fill=\"#000000\" stroke=\"#000000\" points=\"879.2094,-298.2378 889.785,-297.5985 881.119,-291.5033 879.2094,-298.2378\"/>\n</g>\n<!-- 14 -->\n<g id=\"node15\" class=\"node\">\n<title>14</title>\n<polygon fill=\"none\" stroke=\"#000000\" points=\"1037,-274 890,-274 890,-221 1037,-221 1037,-274\"/>\n<text text-anchor=\"middle\" x=\"963.5\" y=\"-258.8\" font-family=\"Times,serif\" font-size=\"14.00\" fill=\"#000000\">gini = 0.498</text>\n<text text-anchor=\"middle\" x=\"963.5\" y=\"-243.8\" font-family=\"Times,serif\" font-size=\"14.00\" fill=\"#000000\">samples = 6.8%</text>\n<text text-anchor=\"middle\" x=\"963.5\" y=\"-228.8\" font-family=\"Times,serif\" font-size=\"14.00\" fill=\"#000000\">value = [0.472, 0.528]</text>\n</g>\n<!-- 12&#45;&gt;14 -->\n<g id=\"edge14\" class=\"edge\">\n<title>12&#45;&gt;14</title>\n<path fill=\"none\" stroke=\"#000000\" d=\"M854.0643,-255.8116C862.5474,-255.1673 871.1369,-254.5149 879.5785,-253.8738\"/>\n<polygon fill=\"#000000\" stroke=\"#000000\" points=\"880.0788,-257.346 889.785,-253.0986 879.5486,-250.3661 880.0788,-257.346\"/>\n</g>\n<!-- 16 -->\n<g id=\"node17\" class=\"node\">\n<title>16</title>\n<polygon fill=\"none\" stroke=\"#000000\" points=\"1029.5,-203 897.5,-203 897.5,-150 1029.5,-150 1029.5,-203\"/>\n<text text-anchor=\"middle\" x=\"963.5\" y=\"-187.8\" font-family=\"Times,serif\" font-size=\"14.00\" fill=\"#000000\">gini = 0.466</text>\n<text text-anchor=\"middle\" x=\"963.5\" y=\"-172.8\" font-family=\"Times,serif\" font-size=\"14.00\" fill=\"#000000\">samples = 14.9%</text>\n<text text-anchor=\"middle\" x=\"963.5\" y=\"-157.8\" font-family=\"Times,serif\" font-size=\"14.00\" fill=\"#000000\">value = [0.37, 0.63]</text>\n</g>\n<!-- 15&#45;&gt;16 -->\n<g id=\"edge16\" class=\"edge\">\n<title>15&#45;&gt;16</title>\n<path fill=\"none\" stroke=\"#000000\" d=\"M846.0461,-176.5C859.5941,-176.5 873.6295,-176.5 887.0816,-176.5\"/>\n<polygon fill=\"#000000\" stroke=\"#000000\" points=\"887.237,-180.0001 897.237,-176.5 887.2369,-173.0001 887.237,-180.0001\"/>\n</g>\n<!-- 17 -->\n<g id=\"node18\" class=\"node\">\n<title>17</title>\n<polygon fill=\"none\" stroke=\"#000000\" points=\"1037,-132 890,-132 890,-79 1037,-79 1037,-132\"/>\n<text text-anchor=\"middle\" x=\"963.5\" y=\"-116.8\" font-family=\"Times,serif\" font-size=\"14.00\" fill=\"#000000\">gini = 0.467</text>\n<text text-anchor=\"middle\" x=\"963.5\" y=\"-101.8\" font-family=\"Times,serif\" font-size=\"14.00\" fill=\"#000000\">samples = 1.6%</text>\n<text text-anchor=\"middle\" x=\"963.5\" y=\"-86.8\" font-family=\"Times,serif\" font-size=\"14.00\" fill=\"#000000\">value = [0.628, 0.372]</text>\n</g>\n<!-- 15&#45;&gt;17 -->\n<g id=\"edge17\" class=\"edge\">\n<title>15&#45;&gt;17</title>\n<path fill=\"none\" stroke=\"#000000\" d=\"M846.0461,-147.7239C857.3235,-143.6698 868.9388,-139.4942 880.2741,-135.4192\"/>\n<polygon fill=\"#000000\" stroke=\"#000000\" points=\"881.4901,-138.7014 889.7164,-132.0247 879.1219,-132.1141 881.4901,-138.7014\"/>\n</g>\n<!-- 19 -->\n<g id=\"node20\" class=\"node\">\n<title>19</title>\n<polygon fill=\"none\" stroke=\"#000000\" points=\"839.5,-124 692.5,-124 692.5,-71 839.5,-71 839.5,-124\"/>\n<text text-anchor=\"middle\" x=\"766\" y=\"-108.8\" font-family=\"Times,serif\" font-size=\"14.00\" fill=\"#000000\">gini = 0.456</text>\n<text text-anchor=\"middle\" x=\"766\" y=\"-93.8\" font-family=\"Times,serif\" font-size=\"14.00\" fill=\"#000000\">samples = 7.0%</text>\n<text text-anchor=\"middle\" x=\"766\" y=\"-78.8\" font-family=\"Times,serif\" font-size=\"14.00\" fill=\"#000000\">value = [0.352, 0.648]</text>\n</g>\n<!-- 18&#45;&gt;19 -->\n<g id=\"edge19\" class=\"edge\">\n<title>18&#45;&gt;19</title>\n<path fill=\"none\" stroke=\"#000000\" d=\"M642.3365,-97.5C655.6779,-97.5 669.145,-97.5 682.0344,-97.5\"/>\n<polygon fill=\"#000000\" stroke=\"#000000\" points=\"682.2343,-101.0001 692.2342,-97.5 682.2342,-94.0001 682.2343,-101.0001\"/>\n</g>\n<!-- 20 -->\n<g id=\"node21\" class=\"node\">\n<title>20</title>\n<polygon fill=\"none\" stroke=\"#000000\" points=\"839.5,-53 692.5,-53 692.5,0 839.5,0 839.5,-53\"/>\n<text text-anchor=\"middle\" x=\"766\" y=\"-37.8\" font-family=\"Times,serif\" font-size=\"14.00\" fill=\"#000000\">gini = 0.364</text>\n<text text-anchor=\"middle\" x=\"766\" y=\"-22.8\" font-family=\"Times,serif\" font-size=\"14.00\" fill=\"#000000\">samples = 6.9%</text>\n<text text-anchor=\"middle\" x=\"766\" y=\"-7.8\" font-family=\"Times,serif\" font-size=\"14.00\" fill=\"#000000\">value = [0.239, 0.761]</text>\n</g>\n<!-- 18&#45;&gt;20 -->\n<g id=\"edge20\" class=\"edge\">\n<title>18&#45;&gt;20</title>\n<path fill=\"none\" stroke=\"#000000\" d=\"M642.3365,-64.1829C655.81,-60.0772 669.4117,-55.9325 682.4171,-51.9695\"/>\n<polygon fill=\"#000000\" stroke=\"#000000\" points=\"683.6887,-55.2409 692.2342,-48.978 681.6482,-48.5449 683.6887,-55.2409\"/>\n</g>\n</g>\n</svg>\n"
          },
          "metadata": {
            "tags": []
          },
          "execution_count": 13
        }
      ]
    },
    {
      "cell_type": "markdown",
      "metadata": {
        "id": "TK2_7OJcgy7y"
      },
      "source": [
        "The way to interpret the output is:\n",
        "\n",
        "•\tEach block is a tree node. The nodes all the way to the right are called leaves and the final model classification depends on the leaf where an event ends up\n",
        "\n",
        "•\tWithin a node you have 4 values:\n",
        "\n",
        "- The split. This is the split that leads to the two nodes to the right\n",
        "- The gini index of that node. It represents purity of the node. 0.5 means random guess, so it is the worst possible value. 0 means perfect classification, so it is the best possible value. Look for nodes with values as close as possible to 0\n",
        "- Samples: the proportion of events in that node. The higher the better. It means that node is very important cause captures many people\n",
        "- Value: proportion of class 0 and class 1 events. The sum of those two values is always 1. Similarly to Gini, it gives an idea of how pure the node is. Ideally, you want one of the two values to be close to 1 and the other to be close to 0. That’s when Gini will be small. If the first of those two values is higher than 0.5, the node is labeled as class 0. Otherwise it is class 1 node\n",
        "\n",
        "•\tSo our starting point is the first node to the left. There we have 100% of samples (obviously, we haven’t even started splitting), the proportion between classes is a perfect 50/50 (we balanced the data before building the model), and, therefore, the gini is 0.5, as bad as it can possibly be. From this node, the first split is on user_past_purchases <= 3.5. The way you read that is:\n",
        "- If a user has <= 3.5 purchases, follow the True arrow. So you end up in the node up and right. That node has Gini of 0.44 (so we improved), 52.7% events (meaning 52.7% of people in our dataset have <= 3.5 purchases), and of those 52.7% of people 67.4% did not click while 32.6% did click. So this is a 0 class node. That split helped us identify a segment with a lower proportion of clicks compared to the starting point of 50/50.\n",
        "- If you go right and down, you are following the False arrow. So you end up in a node representing people with > 3.5 purchases (i.e. not true that they have <= 3.5 purchases). In this case Gini is 0.474, samples is 47.3% and class 0/class 1 proportions are, respectively, 38.6% and 61.4%. So here we found a segment with a significantly higher percentage of people who click\n",
        "\n",
        "•\tLet’s now move one more step to the right. Let’s consider the node up/right, the one with 0.44, 52.7% and .674/.326 values inside. This is the starting point for the new split, which is user_past_purchases <= 0.5.\n",
        "- As before, up means true, down means false. So if we go up, we find users who have <= 3.5 purchases AND <= 0.5 purchases. Since I am splitting on the same variable twice, this is the same as simply saying <= 0.5 purchases. We only have 13.9% of total users there and only 0.7% of them click! This is a really interesting node because it is so pure. Almost achieves perfect classification, as you can see from the super low gini.\n",
        "- If we go down, we find users who have <= 3.5 purchases AND > 0.5 purchases. Basically, between 1 and 3 purchases. We have 38.9% of total users there and almost 40% of them click. The percentage of users who click is higher than the previous node. This means that by removing users with 0 purchases, we managed to find a better segment for our label\n",
        "\n",
        "•\tAs you keep going right this way, you get to the leaves, which are the final classification of the tree. For instance, let’s take the leaf all the way up/right. Those are users with:\n",
        "- <= 3.5 purchases AND\n",
        "- More than 0.5 purchases (i.e. false that they have <= 0.5 purchases) AND\n",
        "- Email_version_personalized <= 0.5 (meaning email is not personalized) AND\n",
        "- User_country_France <= 0.5 (meaning the user is not from France)\n",
        "These users represent 17.5% of total users. Out of those users, 68.9% don’t click and the remaining 31.1% click. So this is a class 0 leaf. If an event ends up there, we predict that will not click.\n"
      ]
    },
    {
      "cell_type": "markdown",
      "metadata": {
        "id": "K-KIyRm5hU4n"
      },
      "source": [
        "#Product Insights"
      ]
    },
    {
      "cell_type": "markdown",
      "metadata": {
        "id": "3YR0Kh1vhY9F"
      },
      "source": [
        "•\tBy far the most important insight from a tree is given by the first split. This model is telling us that the most important segment is whether users bought more or less than 3 times in the past. Increasing the proportion of users with more than 3 purchases would be a great company-wide yearly goal.\n",
        "We don’t have timestamp of the purchases here, but if we had that we could see if the tree also splits on that and create a metric like: percentage of users with at least 3 purchases within X time\n",
        "\n",
        "•\tIf a user has zero purchases, the tree doesn’t split on any other variable. That’s a leaf. This means that everything else becomes irrelevant if a user has never bought. Changing time of the day, weekday, subject, etc, makes no difference there. To make these users click the change will need to be much more dramatic than just changing the email template or when to send it.\n",
        "The next step should be crafting a totally different email with a different message just for these users. These are the hard users to win, but they are also where more value is. They already came to the site and gave their email address, so they have some sort of intent. But they never bought anything. Understanding why that happened could unlock so much value and is way easier to get these people to buy vs having to get new users and then trying to make them convert\n",
        "\n",
        "•\tCountry UK/US and email_personalized = TRUE always lead to higher proportion of clicks, in both R and Python. R also splits on weekday with a clear weekend/weekday split, i.e. one side is Friday/Saturday/Sunday and the other side is the other days. Note that R can split on multiple levels at the same time, while Python will look at each dummy variable independently. In practical terms, this means that Python will need larger trees to extract that information. I.e. to split on those 3 days would require to go down 3 times, firstly splitting on say Friday, then Saturday, and then Sunday.\n",
        "Also, a split on multiple levels has more power than a split on just one level, i.e. can separate the classes better. So always expect categorical variables with many levels to look more important in R than Python\n",
        "\n",
        "•\tThere is no split on any other variables beside those above. This depends on the fact that we built rather small trees, so the tree only focused on macro-information. Beside the fact that is really hard to visualize large trees, splits in large trees are not that informative either.\n",
        "If I had a split at the bottom on the variable hour, this would be conditional on all the previous splits, like purchases < X AND email_personalized = Y AND purchases > Z AND country = J, etc. So it wouldn’t tell me in absolute terms when it is the best time to send an email, but only for that specific segment. And given how specific that segment would be, there would be few events in that node, so overall it would not be particularly important\n",
        "\n",
        "\n",
        "\n",
        "#Pros and Cons"
      ]
    },
    {
      "cell_type": "markdown",
      "metadata": {
        "id": "6X9GlawDhggI"
      },
      "source": [
        "#Pros of using decision trees to extract insights from data\n",
        "\n",
        "\n",
        "✓ They are great to define hard thresholds and create metrics, i.e. power users, engaged users, etc.\n",
        "\n",
        "\n",
        "✓ They are really good to prioritize projects. The tree structure from top to bottom makes easy to understand what matters and what doesn’t. Like in this case, a crucial insight is that we need to solve the 0 purchase -> no clicks problem. Slightly tweaking the email has no effect on them anyway, as shown by the fact that the 0 purchase segment has no split on any other variables\n",
        "\n",
        "✓ They are easy to understand and very realistic, making it easy to explain the findings -> this segment represents X% of the population and they are Y times more likely to click. If we send personalized emails to these people, we can expect an increase in click rate of Z%. There is hardly a better message that can be told to product managers\n",
        "\n",
        "✓ Because of the point above, they can be used to give an idea of how more complex techniques work. You can build a random forest or boosted trees, but then show product managers a single small tree to give an idea of the most important splits in that model. This won’t be 100% accurate, but it is a good way to explain complex models\n",
        "\n",
        "\n",
        "\n",
        "\n",
        "\n",
        "#Cons of using decision trees to extract insights from data\n",
        "\n",
        "\n",
        "✓ Except for the first split, all other splits are conditional to the prior splits. For instance, in those trees we built, no split would tell us the overall impact of making all emails personalized. It is only telling us the effect for specific segments given by the splits prior to that node. This is often a disadvantage from a practical standpoint. To decide if you want to work on something, you often want to know what would be the overall impact. Regressions or partial plots tell you by how much you can expect click rate to change if all emails were personalized. Trees are telling you: if you consider people whose variable X is less than Y AND variable Z = A etc., and if you make emails personalized for these people, you can expect a gain of X%. More often than not, this leads to underestimating the positive impact of certain changes\n",
        "\n",
        "\n",
        "✓ Large trees are extremely confusing and barely usable for insights. Small trees are good in picking up macro-information, but not insights that might lead to small improvements. However, small improvements can be extremely useful too if they identify something that can be fixed quickly, like changing weekday/time of the emails. Other approaches give you a comprehensive view of all the variables, so a data scientist can think about the estimated gain vs the effort to fix that problem. Small trees just don’t show anything beside the first few splits. You could remove the most important variables of your tree and rebuild it on the other variables. That would help uncover small gain opportunities, but it would be manual (and boring) and overall not particularly efficient\n",
        "\n",
        "✓ Creating segments has many advantages:\n",
        "(1) it is great for metrics\n",
        "(2) it is great to explain to product people\n",
        "(3) it is great for continuous variables with clear segments that behave in a different ways (obviously)\n",
        "However, trees create segment no matter what. Even if the relationship between a variable and the output is linear, a tree will find segments, which might not be ideal in certain cases\n",
        "\n",
        "✓ Insights from the model are meaningful only if the model predicts well. If the model predicts badly, they are useless. And a single tree is not particularly good from a prediction standpoint. Specifically, small trees will tend to underfit and large trees will overfit\n",
        "\n",
        "\n",
        "\n",
        "\n",
        "\n",
        "\n",
        "\n",
        "\n",
        "\n",
        "\n",
        "\n",
        "\n",
        "\n",
        "\n",
        "\n",
        "#Partial Dependence Plots - Theory\n",
        "\n",
        "\n",
        "- Partial dependence plots (PDP) are the most effective way to extract information from a model. Although they work with all kinds of models, they are most commonly applied to black-box models. Matter of fact, the most common workflow of a data science project whose goal is to extract insights is to build a black-box model to maximize model predictive power (this typically means random forest or boosting decision trees) and then build the model PDP to extract insights.\n",
        "\n",
        "- A few libraries in R and Python implement PDP. However, ironically, their meaning is often not 100% clear because they are themselves implemented as a black-box! That is, run this command and get the plots, with little-to-no explanation about how the plots are actually generated or the meaning of the axis values. The goal of this section is to exactly understand what they represent and why they are so useful.\n",
        "\n",
        "- PDP are relatively simple to build, although it can be computationally very expensive. Essentially, if we want to build the PDP of a given variable X, we:\n",
        "\n",
        "1.\tBuild any model and save it\n",
        "\n",
        "2.\tCreate a vector with the unique values of variable X in your training set, i.e. [x1,x2, …, xn]\n",
        "\n",
        "3.\tReplace variable X in your entire dataset with the fixed value x1x1\n",
        "\n",
        "4.\tFeed this new dataset (which is the same as the original training set except for the fact that variable X value is always x1x1) into your model, get a prediction for all the events, and take the average\n",
        "\n",
        "5.\tNow you have one data point in the plot. x1x1 is the x-axis value and point 4) average is the y-axis value\n",
        "\n",
        "6.\tRepeat this for all unique values of X and you have your plot\n",
        "\n",
        "Note that this can be done for a single variable or combinations of variables. For instance, you can take unique combinations of variables X and Z together and do the same steps as above. And now you have a 3-d plot (X, Z, and outcome average).\n",
        "\n",
        "Below we will build our own PDP and we will see how to extract insights from them. We will use here the same email dataset described in the intro of this section.\n"
      ]
    },
    {
      "cell_type": "markdown",
      "metadata": {
        "id": "jMxUBguAhs9M"
      },
      "source": [
        "PDP output example from built-in libraries"
      ]
    },
    {
      "cell_type": "code",
      "metadata": {
        "id": "FYrTGQDpgwqc"
      },
      "source": [
        "#!pip install pdpbox\n",
        "import pandas \n",
        "import numpy as np \n",
        "from pdpbox import pdp, info_plots \n",
        "from sklearn.ensemble import RandomForestClassifier \n",
        "import matplotlib.pyplot as plt \n",
        "pandas.set_option('display.max_columns', 10) \n",
        "pandas.set_option('display.width', 350) \n",
        "np.random.seed(4684) "
      ],
      "execution_count": null,
      "outputs": []
    },
    {
      "cell_type": "code",
      "metadata": {
        "id": "zubqP0JLhYWp"
      },
      "source": [
        "data = pandas.get_dummies(data, drop_first=True) \n",
        "train_cols = data.drop('clicked', axis=1) \n"
      ],
      "execution_count": null,
      "outputs": []
    },
    {
      "cell_type": "markdown",
      "metadata": {
        "id": "Ai0IX4eKitX5"
      },
      "source": [
        "Build the model. Here we just care about showing how to extract insights. Optimizing the model is beyond the scope of this section. Only thing we do beside default options is \n",
        "- (a) increasing the weight of minority class via class_weight to make sure the trees split on something and\n",
        "- (b) increase the number of trees"
      ]
    },
    {
      "cell_type": "code",
      "metadata": {
        "colab": {
          "base_uri": "https://localhost:8080/"
        },
        "id": "kO5bqqrEioJ5",
        "outputId": "5dbcf89e-3ae7-477c-c5da-f11a6ffe829e"
      },
      "source": [
        "rf = RandomForestClassifier(class_weight={0:0.05,1:0.95}, n_estimators=50) \n",
        "rf.fit(train_cols, data['clicked'])"
      ],
      "execution_count": null,
      "outputs": [
        {
          "output_type": "execute_result",
          "data": {
            "text/plain": [
              "RandomForestClassifier(bootstrap=True, ccp_alpha=0.0,\n",
              "                       class_weight={0: 0.05, 1: 0.95}, criterion='gini',\n",
              "                       max_depth=None, max_features='auto', max_leaf_nodes=None,\n",
              "                       max_samples=None, min_impurity_decrease=0.0,\n",
              "                       min_impurity_split=None, min_samples_leaf=1,\n",
              "                       min_samples_split=2, min_weight_fraction_leaf=0.0,\n",
              "                       n_estimators=50, n_jobs=None, oob_score=False,\n",
              "                       random_state=None, verbose=0, warm_start=False)"
            ]
          },
          "metadata": {
            "tags": []
          },
          "execution_count": 26
        }
      ]
    },
    {
      "cell_type": "markdown",
      "metadata": {
        "id": "dn52n8h7i24s"
      },
      "source": [
        "Let's build the PDP for the variable email_version. It is going to be fast since it has just two unique values. But the entire procedure would be exactly the same for any other categorical or numerical variable, would just be more computationally expensive "
      ]
    },
    {
      "cell_type": "code",
      "metadata": {
        "colab": {
          "base_uri": "https://localhost:8080/"
        },
        "id": "jd-gUQwYizw0",
        "outputId": "a0037cf3-73be-49b0-b026-defc2537c9b7"
      },
      "source": [
        "pdp_version = pdp.pdp_isolate( model=rf, dataset=train_cols, model_features=list(train_cols), feature='email_version_personalized') \n",
        "print(pdp_version.pdp)"
      ],
      "execution_count": null,
      "outputs": [
        {
          "output_type": "stream",
          "text": [
            "[0.01414867 0.02592596]\n"
          ],
          "name": "stdout"
        }
      ]
    },
    {
      "cell_type": "code",
      "metadata": {
        "colab": {
          "base_uri": "https://localhost:8080/",
          "height": 647
        },
        "id": "y1QW2qE3i5PC",
        "outputId": "ec1d7c1e-a37a-4d1a-b1aa-380508855c53"
      },
      "source": [
        "fig, axes = pdp.pdp_plot(pdp_version, 'email_version_personalized', center=False) \n",
        "axes['pdp_ax'].set_xticklabels(['generic', 'personalized'])\n",
        "plt.show()"
      ],
      "execution_count": null,
      "outputs": [
        {
          "output_type": "stream",
          "text": [
            "findfont: Font family ['Arial'] not found. Falling back to DejaVu Sans.\n",
            "findfont: Font family ['Arial'] not found. Falling back to DejaVu Sans.\n",
            "findfont: Font family ['Arial'] not found. Falling back to DejaVu Sans.\n",
            "findfont: Font family ['Arial'] not found. Falling back to DejaVu Sans.\n"
          ],
          "name": "stderr"
        },
        {
          "output_type": "display_data",
          "data": {
            "image/png": "[encoded data removed]",
            "text/plain": [
              "<Figure size 1080x684 with 2 Axes>"
            ]
          },
          "metadata": {
            "tags": [],
            "needs_background": "light"
          }
        }
      ]
    },
    {
      "cell_type": "markdown",
      "metadata": {
        "id": "hpYPPdkujPRG"
      },
      "source": [
        "#PdP Comments\n",
        "\n",
        "The results appear pretty similar to the logistic regression conclusions, with the personalized version of the email being clearly better. \n",
        "\n",
        "It is important to note here that the classes of this dataset are highly imbalanced as always with conversion rate or clicks. So it is expected that pretty much all segments have negative (if plotting logits) or close-to-zero (if plotting probabilities) values. What matters is to find segments that have relatively higher values. After all, if your site conversion rate is 2% and you find a segment with 4% conversion rate, you are still well below 50%, but you have found a segment that generates 2X as much money per user. The business impact would be huge.\n",
        "\n",
        "#Build your own PDP\n",
        "\n",
        "The best way to learn something is to code it from scratch. So let’s do it and build our own pdp for email version.\n"
      ]
    },
    {
      "cell_type": "code",
      "metadata": {
        "id": "xeR7ZYcVi8wD"
      },
      "source": [
        "#Code from scratch pdp for email version\n",
        "  \n",
        "#Create empty data frame where I store all predictions. Each column will be a prediction for a given event (so we have 99950 of them) and each row a unique element of email_version (so 2)\n",
        "pred_df = pandas.DataFrame(index=range(data['email_version_personalized'].nunique()), columns=range(data.shape[0]))\n",
        "  \n",
        "#Start a for loop for each unique value of email_version_personalized. Just two here\n",
        "for i in range(data['email_version_personalized'].nunique()):\n",
        "    #replace in the training set all values of email version with a fixed one\n",
        "    tmp = data.assign(email_version_personalized = i) #temp data set for the new values\n",
        "    #get the predictions as probabilities \n",
        "    predictions = rf.predict_proba(tmp.drop('clicked', axis=1))\n",
        "  #pred_df is our datasets with the partial predictions for each event. Each column is one of the events that were computed via predict_proba. The first row is the prediction when we fixed the value of email_version as generic for that event. The second row is the prediction for the the same event after changing the value of email_version to personalized  \n",
        "    pred_df.iloc[[i], :]=[x[1] for x in predictions]\n",
        "  \n",
        "##Let's now average those values to get the plots. Intuitively, that makes sense. The only difference we see in those predictions is given by the fact that we change the value of email version. And the average is a way to understand the overall impact across all data\n",
        "pdp_values = pred_df.mean(axis=1)\n",
        "#prettier indices\n",
        "pdp_values.rename(index={0:'generic', 1:'personalized'},inplace=True)\n",
        "  \n",
        "#Finally let's compare our results with pdpbox values, which are the ones in the plot above\n",
        "output_table = pandas.DataFrame(dict(own_pdp = pdp_values, python_pdp_library = pdp_version.pdp))\n",
        "\n",
        "print(output_table)\n",
        "  \n",
        "#They perfectly match! Now you know how pdp are calculated!\n",
        "               own_pdp  python_pdp_library\n",
        "generic       0.014096            0.014096\n",
        "personalized  0.026154            0.026154\n",
        "\n",
        "\n"
      ],
      "execution_count": null,
      "outputs": []
    },
    {
      "cell_type": "markdown",
      "metadata": {
        "id": "0bqtZT6Smct2"
      },
      "source": [
        "Now that’s clear what are partial dependence plots, in the next section we will use them to extract insights from this data set."
      ]
    },
    {
      "cell_type": "markdown",
      "metadata": {
        "id": "anUyUdAgmou1"
      },
      "source": [
        "#Partial Dependence Plots - Practice\n",
        "Let’s now use pdp to extract insights. We will firstly build a RF and then apply pdp to it. However, as it should be clear from the previous section, you can apply pdp to any models you want.\n",
        "\n",
        "#This section is particularly important because the steps you will find below are the most common way to extract insights from data in the corporate world.\n"
      ]
    },
    {
      "cell_type": "code",
      "metadata": {
        "colab": {
          "base_uri": "https://localhost:8080/",
          "height": 892
        },
        "id": "e7uClZTzmZ14",
        "outputId": "f1d5acdf-b24f-41b0-e4ec-1d227b88b8f0"
      },
      "source": [
        "#Same steps as in the previous section to get the dataset ready\n",
        "!pip install pdpbox\n",
        "import pandas \n",
        "import numpy as np\n",
        "from pdpbox import pdp, info_plots\n",
        "from sklearn.ensemble import RandomForestClassifier\n",
        "import matplotlib.pyplot as plt\n",
        "from matplotlib import rcParams\n",
        "pandas.set_option('display.max_columns', 10)\n",
        "rcParams.update({'figure.autolayout': True})\n",
        "  \n",
        "np.random.seed(4684)\n",
        "data = pandas.read_csv('https://drive.google.com/uc?export=download&id=1PXjbqSMu__d_ppEv92i_Gnx3kKgfvhFk')\n",
        "  \n",
        "#prepare the data for the model\n",
        "data_dummy = pandas.get_dummies(data, drop_first=True)\n",
        "train_cols = data_dummy.drop('clicked', axis=1)\n",
        "  \n",
        "#build the model. Again, here we just care about showing how to extract insights. \n",
        "#Optimizing the model is beyond the scope of this section. \n",
        "#Only thing we do beside default options is increasing the weight of minority class via classwt to make sure the trees split on something and choose 50 as tree number\n",
        "rf = RandomForestClassifier(class_weight={0:0.05,1:0.95}, n_estimators=50)\n",
        "rf.fit(train_cols, data_dummy['clicked'])\n",
        "  \n",
        "#estimate variable importance\n",
        "feat_importances = pandas.Series(rf.feature_importances_, index=train_cols.columns)\n",
        "feat_importances.sort_values(ascending=True).plot(kind='barh')\n",
        "plt.show()\n"
      ],
      "execution_count": null,
      "outputs": [
        {
          "output_type": "stream",
          "text": [
            "Collecting pdpbox\n",
            "\u001b[?25l  Downloading https://files.pythonhosted.org/packages/d5/6b/8b214723ff134f6b3f69a77c5bbd9d80db86ce01d3a970a5dbbab45c57fc/PDPbox-0.2.1.tar.gz (34.0MB)\n",
            "\u001b[K     |████████████████████████████████| 34.0MB 110kB/s \n",
            "\u001b[?25hRequirement already satisfied: pandas in /usr/local/lib/python3.7/dist-packages (from pdpbox) (1.1.5)\n",
            "Requirement already satisfied: numpy in /usr/local/lib/python3.7/dist-packages (from pdpbox) (1.19.5)\n",
            "Requirement already satisfied: scipy in /usr/local/lib/python3.7/dist-packages (from pdpbox) (1.4.1)\n",
            "Requirement already satisfied: joblib in /usr/local/lib/python3.7/dist-packages (from pdpbox) (1.0.1)\n",
            "Requirement already satisfied: psutil in /usr/local/lib/python3.7/dist-packages (from pdpbox) (5.4.8)\n",
            "Collecting matplotlib==3.1.1\n",
            "\u001b[?25l  Downloading https://files.pythonhosted.org/packages/19/7a/60bd79c5d79559150f8bba866dd7d434f0a170312e4d15e8aefa5faba294/matplotlib-3.1.1-cp37-cp37m-manylinux1_x86_64.whl (13.1MB)\n",
            "\u001b[K     |████████████████████████████████| 13.1MB 324kB/s \n",
            "\u001b[?25hRequirement already satisfied: sklearn in /usr/local/lib/python3.7/dist-packages (from pdpbox) (0.0)\n",
            "Requirement already satisfied: python-dateutil>=2.7.3 in /usr/local/lib/python3.7/dist-packages (from pandas->pdpbox) (2.8.1)\n",
            "Requirement already satisfied: pytz>=2017.2 in /usr/local/lib/python3.7/dist-packages (from pandas->pdpbox) (2018.9)\n",
            "Requirement already satisfied: kiwisolver>=1.0.1 in /usr/local/lib/python3.7/dist-packages (from matplotlib==3.1.1->pdpbox) (1.3.1)\n",
            "Requirement already satisfied: cycler>=0.10 in /usr/local/lib/python3.7/dist-packages (from matplotlib==3.1.1->pdpbox) (0.10.0)\n",
            "Requirement already satisfied: pyparsing!=2.0.4,!=2.1.2,!=2.1.6,>=2.0.1 in /usr/local/lib/python3.7/dist-packages (from matplotlib==3.1.1->pdpbox) (2.4.7)\n",
            "Requirement already satisfied: scikit-learn in /usr/local/lib/python3.7/dist-packages (from sklearn->pdpbox) (0.22.2.post1)\n",
            "Requirement already satisfied: six>=1.5 in /usr/local/lib/python3.7/dist-packages (from python-dateutil>=2.7.3->pandas->pdpbox) (1.15.0)\n",
            "Building wheels for collected packages: pdpbox\n",
            "  Building wheel for pdpbox (setup.py) ... \u001b[?25l\u001b[?25hdone\n",
            "  Created wheel for pdpbox: filename=PDPbox-0.2.1-cp37-none-any.whl size=35758227 sha256=33d41e3360e7893583db06b8a40d0168d8406350a92c6a89567fc9815eaa3ae5\n",
            "  Stored in directory: /root/.cache/pip/wheels/c8/13/11/ecac74c6192790c94f6f5d919f1a388f927b9febb690e45eef\n",
            "Successfully built pdpbox\n",
            "\u001b[31mERROR: albumentations 0.1.12 has requirement imgaug<0.2.7,>=0.2.5, but you'll have imgaug 0.2.9 which is incompatible.\u001b[0m\n",
            "Installing collected packages: matplotlib, pdpbox\n",
            "  Found existing installation: matplotlib 3.2.2\n",
            "    Uninstalling matplotlib-3.2.2:\n",
            "      Successfully uninstalled matplotlib-3.2.2\n",
            "Successfully installed matplotlib-3.1.1 pdpbox-0.2.1\n"
          ],
          "name": "stdout"
        },
        {
          "output_type": "display_data",
          "data": {
            "application/vnd.colab-display-data+json": {
              "pip_warning": {
                "packages": [
                  "matplotlib",
                  "mpl_toolkits"
                ]
              }
            }
          },
          "metadata": {
            "tags": []
          }
        },
        {
          "output_type": "display_data",
          "data": {
            "image/png": "[encoded data removed]",
            "text/plain": [
              "<Figure size 432x288 with 1 Axes>"
            ]
          },
          "metadata": {
            "tags": [],
            "needs_background": "light"
          }
        }
      ]
    },
    {
      "cell_type": "markdown",
      "metadata": {
        "id": "YzRQBNSJmuup"
      },
      "source": [
        "Python returns variable importance for each dummy variable separately, not for the original categorical variable before creating the dummy variables.\n",
        "\n",
        "Based on this, we see that the relevant variables are email _id, user_past_purchases, and hour. It is not by chance that the top 3 variables are the numerical ones. In general, obviously, the overall impact of a categorical variable gets penalized here since we are looking at each dummy variable independently. For a similar reason, the dummy variables from categorical variables with less levels, like email_version or email_text, show up as more important (its overall importance is split into less dummy variables).\n",
        "\n",
        "Regardless of the actual accuracy of this specific variable importance technique (which is very little), what is much more important is that a plot like this one is not really that informative. Few product managers will care about a statement like: “the time of the day in which we send the email is important!”. What they want to know is when is the best time, and variable importance gives no info about it.\n"
      ]
    },
    {
      "cell_type": "code",
      "metadata": {
        "colab": {
          "base_uri": "https://localhost:8080/"
        },
        "id": "vELCm3vLprX7",
        "outputId": "33893629-b969-4711-adb6-b78f4cce13c7"
      },
      "source": [
        "plot_variable"
      ],
      "execution_count": null,
      "outputs": [
        {
          "output_type": "execute_result",
          "data": {
            "text/plain": [
              "['email_id']"
            ]
          },
          "metadata": {
            "tags": []
          },
          "execution_count": 59
        }
      ]
    },
    {
      "cell_type": "code",
      "metadata": {
        "colab": {
          "base_uri": "https://localhost:8080/",
          "height": 1000
        },
        "id": "OdLN7N9Lmw0d",
        "outputId": "f14ddf27-4f0c-4da9-ce81-0b6392b06777"
      },
      "source": [
        "#PDP Analysis\n",
        "#Let's plot all of them. Note that pdpbox allows to group together dummy variables coming from the same categorical variable. For this we need to get the original variable names.\n",
        "feat_original = data.columns.drop('clicked') #plot all variables with a for loop. If a variable is categorical make sure to plot all levels together. \n",
        "#get all variables that include the name in feat_original. So, if it is numeric, just take that variable. If it is categorical, take all dummies belonging to the same categorical variable. Since for dummies their name is variable_level, this is easy. Just pick all variables that start with the original variable name. I.e. to get all weekday dummies (weekday_Monday, weekday_Tuesday, etc.), we just look for all variables starting with \"weekday\" #variables to plot \n",
        "\n",
        "for i in range(len(feat_original)):\n",
        "  plot_variable = [e for e in list(train_cols) if e.startswith(feat_original[i])] #numeric variables or dummy with just 1 level \n",
        "  if len(plot_variable) == 1: \n",
        "    pdp_iso = pdp.pdp_isolate( model=rf, dataset=train_cols, model_features=list(train_cols), feature=plot_variable[0], num_grid_points=50) \n",
        "    pdp_dataset = pandas.Series(pdp_iso.pdp, index=pdp_iso.feature_grids) #pdpbox has several options if you want to use their built-in plots. I personally prefer just using .plot. It is totally subjective obviously. \n",
        "    pdp_dataset.plot(title=feat_original[i])\n",
        "    plt.show() #categorical variables with several levels else:\n",
        "  else: \n",
        "    pdp_iso = pdp.pdp_isolate(model=rf, dataset=train_cols, model_features=list(train_cols), feature=plot_variable, num_grid_points=50) \n",
        "    pdp_dataset = pandas.Series(pdp_iso.pdp, index=pdp_iso.display_columns) \n",
        "    pdp_dataset.sort_values(ascending=False).plot(kind='bar', title=feat_original[i]) \n",
        "    plt.show() \n",
        "    plt.close()\n"
      ],
      "execution_count": null,
      "outputs": [
        {
          "output_type": "display_data",
          "data": {
            "image/png": "[encoded data removed]",
            "text/plain": [
              "<Figure size 432x288 with 1 Axes>"
            ]
          },
          "metadata": {
            "tags": [],
            "needs_background": "light"
          }
        },
        {
          "output_type": "display_data",
          "data": {
            "image/png": "[encoded data removed]",
            "text/plain": [
              "<Figure size 432x288 with 1 Axes>"
            ]
          },
          "metadata": {
            "tags": [],
            "needs_background": "light"
          }
        },
        {
          "output_type": "display_data",
          "data": {
            "image/png": "[encoded data removed]",
            "text/plain": [
              "<Figure size 432x288 with 1 Axes>"
            ]
          },
          "metadata": {
            "tags": [],
            "needs_background": "light"
          }
        },
        {
          "output_type": "display_data",
          "data": {
            "image/png": "[encoded data removed]",
            "text/plain": [
              "<Figure size 432x288 with 1 Axes>"
            ]
          },
          "metadata": {
            "tags": [],
            "needs_background": "light"
          }
        },
        {
          "output_type": "display_data",
          "data": {
            "image/png": "[encoded data removed]",
            "text/plain": [
              "<Figure size 432x288 with 1 Axes>"
            ]
          },
          "metadata": {
            "tags": [],
            "needs_background": "light"
          }
        },
        {
          "output_type": "display_data",
          "data": {
            "image/png": "[encoded data removed]",
            "text/plain": [
              "<Figure size 432x288 with 1 Axes>"
            ]
          },
          "metadata": {
            "tags": [],
            "needs_background": "light"
          }
        },
        {
          "output_type": "display_data",
          "data": {
            "image/png": "[encoded data removed]",
            "text/plain": [
              "<Figure size 432x288 with 1 Axes>"
            ]
          },
          "metadata": {
            "tags": [],
            "needs_background": "light"
          }
        }
      ]
    },
    {
      "cell_type": "code",
      "metadata": {
        "colab": {
          "base_uri": "https://localhost:8080/"
        },
        "id": "F2ek8aY6oPB4",
        "outputId": "e69d7689-d36c-4a9d-e821-3e8d548bf93d"
      },
      "source": [
        "plot_variable"
      ],
      "execution_count": null,
      "outputs": [
        {
          "output_type": "execute_result",
          "data": {
            "text/plain": [
              "['user_past_purchases']"
            ]
          },
          "metadata": {
            "tags": []
          },
          "execution_count": 48
        }
      ]
    },
    {
      "cell_type": "markdown",
      "metadata": {
        "id": "J_Ruy_Rbnoys"
      },
      "source": [
        "#Understanding the output\n",
        "\n",
        "•\tFirstly, look at the y-axis scale. The larger that scale, the more important is that variable. It’s essentially telling us by how much changing that variable value would impact the output. And our goal is finding where the change is the largest. That’s where the money is\n",
        "\n",
        "•\tThe number of past purchases made by the user appears then by far the most important variable. The more purchases they have made, the larger the probability they will click on the email. This is kind of obvious, but a perfect example of a crucial concept: there is no such thing as marketing and product as independent initiatives. A better product leads to better marketing and the other way round. If product figures out how to increase conversion rate, marketing metrics will go up too! Embedding someone from marketing within product, or at least having visibility into what product is doing, will be very beneficial for the marketing team\n",
        "\n",
        "•\tEmail_id appears pretty important, with a very clear trend: first and last email_ids are the best ones. The emails in the middle are the worst. Obviously, this cannot be the ID itself, but it is more like this variable is a proxy for something else. The most realistic explanation is that first emails (low email IDs) are correlated with early users. And high IDs are a proxy for someone who just created the account. And these two segments are the best ones for clicks. If this were the reason, a very interesting thing to note is: shortly after people create the account, email them, that’s when they have your company in mind and are likely to positively react to the email. Conversely, if you let them forget about you, it will be very hard to win them back (unless they are the very early and passionate users)\n",
        "\n",
        "•\tHour is super interesting. There is a clear best segment in the morning, something like 9 to noon. That’s when they should receive the email. There is a spike around midnight, but that’s probably just noise. See that in the R plots along the x-axis there are some ticks. Those are deciles and show that between 15 and 24 it is only 10% of all users in my training set, so that spike is likely just noise. When you look at continuous variables, make sure to consider how many users are actually within given segments, cause huge spikes or drops could be noise (especially towards the end or beginning of the plot)\n",
        "\n",
        "•\tWeekday shows a clear pattern in terms of weekends vs weekdays (the other days). Weekends are much worse. Combining this with the hour plot, it looks like sending emails on mornings during weekdays could improve clicks a lot\n",
        "\n",
        "•\tUK and US are much better. Having someone from the international team look at those versions of the emails in French and Spanish is likely to help us discover what’s wrong here. In any case, comparable countries like can be UK and France should not have such a large difference. It does look like something went wrong with the translation or something similar\n",
        "\n",
        "•\tNot surprisingly, short and personalized emails do better. Note, however, how the gain from personalization vs generic is much larger than short vs long. If just adding the name can lead to that gain, imagine real personalization. While all other insights are more about quick fixes, this is the kind of insight that can lead to a fully new project\n",
        "\n",
        "#Pros and Cons\n",
        "\n",
        "#Pros of using Partial Dependence Plots to extract insights from data\n",
        "\n",
        "\n",
        "✓ Pdp are the most reliable way to extract insights from data. They allow to:\n",
        "\n",
        "1) Quickly and accurately visualize variable importance (via the y-axis scale). Indeed, variable importance via permutation is based on the same idea as partial plots\n",
        "\n",
        "2) See in depth how each variable affects the output\n",
        "\n",
        "3) They can lead to a pretty accurate opportunity-cost analysis to prioritize projects. After all, you can see right away the estimated impact on the output if changing a given variable\n",
        "\n",
        "\n",
        "\n",
        "\n",
        "#Cons of using Partial Dependence Plots to extract insights from data\n",
        "\n",
        "\n",
        "✓ At their core, pdp are just a way to easily visualize the model structure. If the model is bad, pdp are bad. Whatever weakness the model has, pdp have it too. Always take this into account before jumping to conclusions. For instance, if you build pdp for logistic regressions you will get a monotonic relationship between variable and output, because that’s how logistic regressions work\n",
        "\n",
        "\n",
        "✓ For numerical variables, you might see big spikes or drops simply given by noise. Having percentiles as ticks on the x-axis will help you with that. In general, take into account the size of each segment before jumping to conclusions\n",
        "\n",
        "✓ Not all product managers are familiar with pdp. So you will need to explain in a simple way what they are looking at. Instinctively, people will think they are looking at simple plots of that variable vs the label. You will have to make clear that they are, in fact, looking at the way the model is extracting information from that variable\n",
        "\n",
        "#Rulefit - Theory\n",
        "\n",
        "\n",
        "As we have seen, regressions have many pros, but two pretty important disadvantages:\n",
        "\n",
        "1.\tThey imply a linear relationship between outcome and variables. Most specifically, the relationship has to be monotonic, meaning that as the variable value increases the output always keeps increasing or decreasing. But that’s hardly realistic, as we have seen for the hour variable in our dataset, or think about age, or really the majority of continuous variables\n",
        "\n",
        "2.\tThey look at each variable independently. So, in our case, hour and weekday are treated separately. But it is likely that the two are related. Morning might be a good time during weekdays, but it is probably a bad time during weekends. In short, they don’t take into account variable interactions\n",
        "\n",
        "\n",
        "On the other hand, trees are very good in those two points above, but suffer from many other issues as we extensively discussed in the previous section. The idea behind RuleFit is therefore to somehow combine regressions and decision trees in such a way that you can minimize the disadvantages of each model and maximize the pros. Specifically, the idea is:\n",
        "\n",
        "1.\tBuild any kinds of tree-based classifiers. Let’s say a RF, for simplicity\n",
        "\n",
        "2.\tExtract rules from the trees. Rules means all splits that lead to a leaf. So the first rule would be based on just one variable, because it is the top split. Like in the previous examples was something like: Purchases<3.5. The second rule would be the path to the node below that one. So something like: Purchases<3.5 AND Purchases < 0.5 and so on for all nodes in the trees\n",
        "\n",
        "3.\tTurn these rules into dummy variables. So for instance add to your dataset a column called purchases_less_3.5 and assign value 1 if it is true for that particular row and 0 if it is false. Do this for all the rules\n",
        "\n",
        "4.\tBuild a logistic regression on this new dataset which will include all the original variables + the rule-based variables\n",
        "Rulefit - Core Idea\n",
        "Before actually building a full Rulefit model, let’s just take its core idea and use it for one variable to understand how it works. The example below is an oversimplification, but, hopefully, it makes clear how the model works conceptually.\n",
        "We know that if we build a logistic regression, we get the output below for the variable hour. This is telling us that as we increase hour, we have higher probability of clicks. So the best time is 24!\n"
      ]
    },
    {
      "cell_type": "code",
      "metadata": {
        "colab": {
          "base_uri": "https://localhost:8080/"
        },
        "id": "0MM56QYNmrka",
        "outputId": "5c9d1ef5-c822-432e-dda7-10844526a919"
      },
      "source": [
        "import pandas\n",
        "import statsmodels.api as sm\n",
        "pandas.set_option('display.max_columns', 10)\n",
        "pandas.set_option('display.width', 350)\n",
        "#read from google drive\n",
        "data = pandas.read_csv('https://drive.google.com/uc?export=download&id=1PXjbqSMu__d_ppEv92i_Gnx3kKgfvhFk')\n",
        "# make dummy variables from categorical ones. Using one-hot encoding and drop_first=True \n",
        "data = pandas.get_dummies(data, drop_first=True)\n",
        "#add intercept\n",
        "data['intercept'] = 1\n",
        "#drop the label\n",
        "train_cols = data.drop('clicked', axis=1)\n",
        "#Build LR\n",
        "logit = sm.Logit(data['clicked'], train_cols)\n",
        "output = logit.fit()\n",
        "output_table = pandas.DataFrame(dict(coefficients = output.params, SE = output.bse, z = output.tvalues, p_values = output.pvalues))\n",
        "print(output_table.iloc[[1,14]])\n"
      ],
      "execution_count": null,
      "outputs": [
        {
          "output_type": "stream",
          "text": [
            "Optimization terminated successfully.\n",
            "         Current function value: 0.092770\n",
            "         Iterations 9\n",
            "           coefficients        SE          z  p_values\n",
            "hour           0.016707  0.005006   3.337445  0.000846\n",
            "intercept     -6.880922  0.156067 -44.089646  0.000000\n"
          ],
          "name": "stdout"
        }
      ]
    },
    {
      "cell_type": "markdown",
      "metadata": {
        "id": "nHhuULoUpEVr"
      },
      "source": [
        "However, if we plot hour against click rate, we see a different scenario (and we saw the same with the partial plots):"
      ]
    },
    {
      "cell_type": "code",
      "metadata": {
        "colab": {
          "base_uri": "https://localhost:8080/",
          "height": 297
        },
        "id": "fvh98c_zpDPY",
        "outputId": "efe0d258-7c15-4973-bee8-54c9adcdebf3"
      },
      "source": [
        "import pandas\n",
        "import statsmodels.api as sm\n",
        "import matplotlib.pyplot as plt\n",
        "import numpy as np\n",
        "#group by hour and estimate click rate and total count of emails sent per hour\n",
        "data_hour = data.groupby('hour')['clicked'].agg(['count', 'mean']).reset_index()\n",
        "data_hour.plot(x='hour', y='mean')\n",
        "plt.ylabel(\"click_rate\")\n",
        "plt.show()\n"
      ],
      "execution_count": null,
      "outputs": [
        {
          "output_type": "display_data",
          "data": {
            "image/png": "[encoded data removed]",
            "text/plain": [
              "<Figure size 432x288 with 1 Axes>"
            ]
          },
          "metadata": {
            "tags": [],
            "needs_background": "light"
          }
        }
      ]
    },
    {
      "cell_type": "code",
      "metadata": {
        "id": "cSKhjt_vntVm"
      },
      "source": [
        "# That spike at the end of the plot is just noise. We can see that we have few emails sent in the night anyway.\n",
        "print(data_hour)"
      ],
      "execution_count": null,
      "outputs": []
    },
    {
      "cell_type": "markdown",
      "metadata": {
        "id": "K7hR-zr_qPGl"
      },
      "source": [
        "In any case, the relationship between hour and the outcome is certainly non-monotonic. Early morning is down, middle of the day is up, evening is down again, then the noisy spike at the end. So, let’s try to make life easier for the logistic regression by creating a new variable based on a simple rule: IF hour > 6 AND hour < 18 -> 1 ELSE -> 0. After all, it should be much easier to pick information from that clean up/down segment, we saw that logistic regression excels at this."
      ]
    },
    {
      "cell_type": "code",
      "metadata": {
        "colab": {
          "base_uri": "https://localhost:8080/"
        },
        "id": "XwaDpTeLqMb-",
        "outputId": "b98ebade-5224-4ac9-bff2-c6cd1dd7041c"
      },
      "source": [
        "#add new rule-based variable\n",
        "data['middle_day'] = np.where((data['hour']<18)&(data['hour']>6), 1, 0)\n",
        "# rebuild the regression\n",
        "data = pandas.get_dummies(data, drop_first=True)\n",
        "data['intercept'] = 1\n",
        "train_cols = data.drop('clicked', axis=1)\n",
        "logit = sm.Logit(data['clicked'], train_cols)\n",
        "output = logit.fit()\n",
        "output_table = pandas.DataFrame(dict(coefficients = output.params, SE = output.bse, z = output.tvalues, p_values = output.pvalues))\n",
        "#reorder the output\n",
        "print(output_table.iloc[[15,1, 14]].append(output_table.drop(output_table.index[[15,1, 14]])))\n"
      ],
      "execution_count": null,
      "outputs": [
        {
          "output_type": "stream",
          "text": [
            "Optimization terminated successfully.\n",
            "         Current function value: 0.092636\n",
            "         Iterations 9\n",
            "                            coefficients            SE          z       p_values\n",
            "intercept                  -6.937734e+00  1.573351e-01 -44.095274   0.000000e+00\n",
            "hour                        5.312621e-04  6.250677e-03   0.084993   9.322672e-01\n",
            "user_country_US             1.142917e+00  1.159867e-01   9.853859   6.596158e-23\n",
            "email_id                   -4.007616e-08  7.782442e-08  -0.514956   6.065838e-01\n",
            "user_past_purchases         1.878623e-01  5.730251e-03  32.784308  9.854981e-236\n",
            "middle_day                  2.982799e-01  5.902513e-02   5.053439   4.339247e-07\n",
            "email_text_short_email      2.784118e-01  4.531495e-02   6.143928   8.050532e-10\n",
            "email_version_personalized  6.381222e-01  4.692389e-02  13.599090   4.054487e-42\n",
            "weekday_Monday              5.409127e-01  9.342941e-02   5.789533   7.058238e-09\n",
            "weekday_Saturday            2.835385e-01  9.779542e-02   2.899302   3.739941e-03\n",
            "weekday_Sunday              1.845906e-01  1.001365e-01   1.843390   6.527212e-02\n",
            "weekday_Thursday            6.226263e-01  9.236431e-02   6.740983   1.573182e-11\n",
            "weekday_Tuesday             6.183774e-01  9.239509e-02   6.692753   2.190114e-11\n",
            "weekday_Wednesday           7.599170e-01  9.086486e-02   8.363156   6.106221e-17\n",
            "user_country_FR            -7.900866e-02  1.626183e-01  -0.485854   6.270710e-01\n",
            "user_country_UK             1.157288e+00  1.220880e-01   9.479125   2.564254e-21\n"
          ],
          "name": "stdout"
        }
      ]
    },
    {
      "cell_type": "markdown",
      "metadata": {
        "id": "bKHvTjNQqTYs"
      },
      "source": [
        "- There you go! Very interesting! Middle day is highly significant, and its coefficient now makes perfect sense: if it is middle of the day, probability of clicks goes up. Being more sound: if it is middle of the day, defined as from 7AM to 5PM, the log-odds increase by ~0.3. And now hour is not significant anymore since all information has already been extracted from middle_day.\n",
        "\n",
        "- This is the key idea of Rulefit: create variables based on segments given by one or more variables and add them to the regression. And turns out that trees are already creating those segments in the most optimal way. So why don’t just use those splits to create the rules?\n",
        "\n",
        "- Now that the core idea behind Rulefit should be clear, in the next section we will see how to actually build and extract information from a Rulefit model.\n"
      ]
    },
    {
      "cell_type": "markdown",
      "metadata": {
        "id": "lQEeemRrgKii"
      },
      "source": [
        "#Rulefit - Practice\n",
        "\n",
        "\n",
        "From the previous section it should be clear that Rulefit is particularly powerful if the goal is to extract insights, given that it kind of combines the best of both worlds: regressions and trees. However, it should also be clear how is extremely computationally expensive. After all, in order to build Rulefit you need to go through the following steps:\n",
        "\n",
        "1.\tBuild a forest of trees\n",
        "\n",
        "2.\tExtract tons of rules from it\n",
        "\n",
        "3.\tUse those rules to create new dummy variables and add those variables to the original dataset\n",
        "\n",
        "4.\tBuild a regression on a now huge dataset, after all its dimensionality has increased tremendously\n",
        "\n",
        "To make things even worse, those 4 steps have to be performed in sequence, meaning you can’t parallelize them!\n",
        "Processing time is not particularly relevant for insights and non-production data science in general, at least if we talk about saving seconds or minutes. However, it is relevant if we are talking about hours. After all, it is hard to optimize a model if it takes too long to build it. And, as we know, bad models lead to bad insights.\n",
        "Btw, try to keep the forest of trees as small as possible since its size impacts all 4 point processing time.\n"
      ]
    },
    {
      "cell_type": "code",
      "metadata": {
        "id": "qPCr_kr-qRx6",
        "colab": {
          "base_uri": "https://localhost:8080/",
          "height": 1000
        },
        "outputId": "779de1c9-2eaf-4eb4-ec15-fa60fd696b66"
      },
      "source": [
        "\n",
        "#install Rulefit from github \n",
        "!pip3 install git+https://github.com/christophM/rulefit.git\n",
        "import pandas as pandas\n",
        "import numpy as np\n",
        "from sklearn.ensemble import RandomForestClassifier\n",
        "from numpy.core.umath_tests import inner1d\n",
        "from sklearn.linear_model import LogisticRegression\n",
        "from rulefit import RuleFit\n",
        "  \n",
        "pandas.set_option('display.max_columns', 10)\n",
        "pandas.set_option('display.width', 350)\n",
        "np.random.seed(4684)\n",
        "  \n",
        "#read from google drive\n",
        "data = pandas.read_csv('https://drive.google.com/uc?export=download&id=1PXjbqSMu__d_ppEv92i_Gnx3kKgfvhFk')\n",
        "# make dummy variables from categorical ones. Using one-hot encoding and drop_first=True \n",
        "data = pandas.get_dummies(data, drop_first=True)\n",
        "#drop the label\n",
        "train_cols = data.drop('clicked', axis=1)\n",
        "  \n",
        "#Extract rules from Random Forest\n",
        "#set tree forest parameters\n",
        "rf=RandomForestClassifier(max_depth=2, n_estimators=10, class_weight={0:0.05,1:0.95})\n",
        "  \n",
        "#set RuleFit parameters. We are keeping RuleFit pretty small here to make it faster. Increasing max_depth, n_estimators, and setting exp_rand_tree_size = True will generate way more rules and make it somewhat more reliable. As always, there is a trade-off between accuracy and processing time, which should be considered on a case-by-case basis. Note that RuleFit is really slow, so this trade-off is pretty significant here.     \n",
        "rufi=RuleFit(rfmode=\"classify\", tree_generator=rf, exp_rand_tree_size=False, lin_standardise=False)\n",
        "#fit RuleFit\n",
        "rufi.fit(train_cols.values, data['clicked'].values, feature_names = train_cols.columns)\n",
        "print(\"We have extracted\", rufi.transform(train_cols.values).shape[1], \"rules\")\n",
        "\n",
        "#These are a few of the rules we have extracted\n",
        "output=rufi.get_rules()\n",
        "print(output[output['type']==\"rule\"]['rule'].head().values)\n",
        "['user_past_purchases > 3.5 & weekday_Wednesday > 0.5'\n",
        " 'weekday_Tuesday > 0.5 & user_country_FR > 0.5'\n",
        " 'weekday_Tuesday <= 0.5 & weekday_Wednesday <= 0.5'\n",
        " 'email_text_short_email <= 0.5 & user_past_purchases <= 5.5'\n",
        " 'user_past_purchases <= 3.5 & email_version_personalized <= 0.5']\n",
        "#X_concat is the new dataset given by the original variables (train_cols.values)\n",
        "#as well as the new rules extracted from the trees (rufi.transform(train_cols.values))\n",
        "X_concat = np.concatenate((train_cols, rufi.transform(train_cols.values)), axis=1)\n",
        "#Build the logistic regression with penalty. This will set low coefficients to zero, so only the relevant ones will survive\n",
        "log = LogisticRegression(penalty='l1', solver='liblinear', C=0.1)\n",
        "log.fit(X_concat, data['clicked'])\n",
        "#get the full output with variables, coefficients, and support\n",
        "output.iloc[:,2] = np.transpose(log.coef_)\n",
        "output[output['coef']!=0].sort_values('coef', ascending = False )\n",
        "\n"
      ],
      "execution_count": null,
      "outputs": [
        {
          "output_type": "stream",
          "text": [
            "Collecting git+https://github.com/christophM/rulefit.git\n",
            "  Cloning https://github.com/christophM/rulefit.git to /tmp/pip-req-build-myhb2wgc\n",
            "  Running command git clone -q https://github.com/christophM/rulefit.git /tmp/pip-req-build-myhb2wgc\n",
            "Requirement already satisfied: scikit-learn>=0.20.2 in /usr/local/lib/python3.7/dist-packages (from RuleFit==0.3) (0.22.2.post1)\n",
            "Requirement already satisfied: numpy>=1.16.1 in /usr/local/lib/python3.7/dist-packages (from RuleFit==0.3) (1.19.5)\n",
            "Requirement already satisfied: pandas>=0.24.1 in /usr/local/lib/python3.7/dist-packages (from RuleFit==0.3) (1.1.5)\n",
            "Requirement already satisfied: scipy>=0.17.0 in /usr/local/lib/python3.7/dist-packages (from scikit-learn>=0.20.2->RuleFit==0.3) (1.4.1)\n",
            "Requirement already satisfied: joblib>=0.11 in /usr/local/lib/python3.7/dist-packages (from scikit-learn>=0.20.2->RuleFit==0.3) (1.0.1)\n",
            "Requirement already satisfied: pytz>=2017.2 in /usr/local/lib/python3.7/dist-packages (from pandas>=0.24.1->RuleFit==0.3) (2018.9)\n",
            "Requirement already satisfied: python-dateutil>=2.7.3 in /usr/local/lib/python3.7/dist-packages (from pandas>=0.24.1->RuleFit==0.3) (2.8.1)\n",
            "Requirement already satisfied: six>=1.5 in /usr/local/lib/python3.7/dist-packages (from python-dateutil>=2.7.3->pandas>=0.24.1->RuleFit==0.3) (1.15.0)\n",
            "Building wheels for collected packages: RuleFit\n",
            "  Building wheel for RuleFit (setup.py) ... \u001b[?25l\u001b[?25hdone\n",
            "  Created wheel for RuleFit: filename=RuleFit-0.3-cp37-none-any.whl size=8789 sha256=b68846c703bd1cb539b67c365654499eb836f94a2df5bbcdddb064b17d2f54e6\n",
            "  Stored in directory: /tmp/pip-ephem-wheel-cache-5allqqn1/wheels/c8/f1/65/49a8b77c1b417067e78457e71778d8eb84c9f90010e6458a0d\n",
            "Successfully built RuleFit\n",
            "Installing collected packages: RuleFit\n",
            "Successfully installed RuleFit-0.3\n",
            "We have extracted 38 rules\n",
            "['weekday_Tuesday > 0.5 & user_country_FR > 0.5'\n",
            " 'user_country_FR <= 0.5 & weekday_Sunday <= 0.5'\n",
            " 'weekday_Wednesday <= 0.5 & user_country_FR > 0.5'\n",
            " 'email_version_personalized > 0.5 & email_text_short_email > 0.5'\n",
            " 'user_past_purchases <= 4.5 & user_past_purchases <= 0.5']\n"
          ],
          "name": "stdout"
        },
        {
          "output_type": "execute_result",
          "data": {
            "text/html": [
              "<div>\n",
              "<style scoped>\n",
              "    .dataframe tbody tr th:only-of-type {\n",
              "        vertical-align: middle;\n",
              "    }\n",
              "\n",
              "    .dataframe tbody tr th {\n",
              "        vertical-align: top;\n",
              "    }\n",
              "\n",
              "    .dataframe thead th {\n",
              "        text-align: right;\n",
              "    }\n",
              "</style>\n",
              "<table border=\"1\" class=\"dataframe\">\n",
              "  <thead>\n",
              "    <tr style=\"text-align: right;\">\n",
              "      <th></th>\n",
              "      <th>rule</th>\n",
              "      <th>type</th>\n",
              "      <th>coef</th>\n",
              "      <th>support</th>\n",
              "      <th>importance</th>\n",
              "    </tr>\n",
              "  </thead>\n",
              "  <tbody>\n",
              "    <tr>\n",
              "      <th>12</th>\n",
              "      <td>user_country_UK</td>\n",
              "      <td>linear</td>\n",
              "      <td>9.004964e-01</td>\n",
              "      <td>1.000000</td>\n",
              "      <td>0.000000</td>\n",
              "    </tr>\n",
              "    <tr>\n",
              "      <th>8</th>\n",
              "      <td>weekday_Thursday</td>\n",
              "      <td>linear</td>\n",
              "      <td>3.975176e-01</td>\n",
              "      <td>1.000000</td>\n",
              "      <td>0.000000</td>\n",
              "    </tr>\n",
              "    <tr>\n",
              "      <th>5</th>\n",
              "      <td>weekday_Monday</td>\n",
              "      <td>linear</td>\n",
              "      <td>3.197701e-01</td>\n",
              "      <td>1.000000</td>\n",
              "      <td>0.000000</td>\n",
              "    </tr>\n",
              "    <tr>\n",
              "      <th>2</th>\n",
              "      <td>user_past_purchases</td>\n",
              "      <td>linear</td>\n",
              "      <td>1.421194e-01</td>\n",
              "      <td>1.000000</td>\n",
              "      <td>0.000000</td>\n",
              "    </tr>\n",
              "    <tr>\n",
              "      <th>17</th>\n",
              "      <td>email_version_personalized &gt; 0.5 &amp; email_text_...</td>\n",
              "      <td>rule</td>\n",
              "      <td>1.291703e-01</td>\n",
              "      <td>0.248180</td>\n",
              "      <td>0.000000</td>\n",
              "    </tr>\n",
              "    <tr>\n",
              "      <th>35</th>\n",
              "      <td>email_version_personalized &gt; 0.5 &amp; user_countr...</td>\n",
              "      <td>rule</td>\n",
              "      <td>1.094075e-01</td>\n",
              "      <td>0.299551</td>\n",
              "      <td>0.000000</td>\n",
              "    </tr>\n",
              "    <tr>\n",
              "      <th>23</th>\n",
              "      <td>weekday_Tuesday &lt;= 0.5 &amp; email_text_short_emai...</td>\n",
              "      <td>rule</td>\n",
              "      <td>5.837601e-02</td>\n",
              "      <td>0.427504</td>\n",
              "      <td>0.000000</td>\n",
              "    </tr>\n",
              "    <tr>\n",
              "      <th>6</th>\n",
              "      <td>weekday_Saturday</td>\n",
              "      <td>linear</td>\n",
              "      <td>5.060555e-02</td>\n",
              "      <td>1.000000</td>\n",
              "      <td>0.000000</td>\n",
              "    </tr>\n",
              "    <tr>\n",
              "      <th>21</th>\n",
              "      <td>user_past_purchases &gt; 3.5 &amp; weekday_Wednesday ...</td>\n",
              "      <td>rule</td>\n",
              "      <td>1.960095e-02</td>\n",
              "      <td>0.066040</td>\n",
              "      <td>0.000000</td>\n",
              "    </tr>\n",
              "    <tr>\n",
              "      <th>0</th>\n",
              "      <td>email_id</td>\n",
              "      <td>linear</td>\n",
              "      <td>-6.663682e-08</td>\n",
              "      <td>1.000000</td>\n",
              "      <td>1.337860</td>\n",
              "    </tr>\n",
              "    <tr>\n",
              "      <th>31</th>\n",
              "      <td>email_text_short_email &lt;= 0.5 &amp; user_past_purc...</td>\n",
              "      <td>rule</td>\n",
              "      <td>-2.230903e-02</td>\n",
              "      <td>0.139466</td>\n",
              "      <td>0.000000</td>\n",
              "    </tr>\n",
              "    <tr>\n",
              "      <th>1</th>\n",
              "      <td>hour</td>\n",
              "      <td>linear</td>\n",
              "      <td>-2.950407e-02</td>\n",
              "      <td>1.000000</td>\n",
              "      <td>0.788348</td>\n",
              "    </tr>\n",
              "    <tr>\n",
              "      <th>42</th>\n",
              "      <td>weekday_Wednesday &lt;= 0.5 &amp; user_country_FR &lt;= 0.5</td>\n",
              "      <td>rule</td>\n",
              "      <td>-6.569073e-02</td>\n",
              "      <td>0.774326</td>\n",
              "      <td>0.000000</td>\n",
              "    </tr>\n",
              "    <tr>\n",
              "      <th>32</th>\n",
              "      <td>email_version_personalized &lt;= 0.5 &amp; hour &lt;= 9.5</td>\n",
              "      <td>rule</td>\n",
              "      <td>-1.366781e-01</td>\n",
              "      <td>0.279427</td>\n",
              "      <td>0.000000</td>\n",
              "    </tr>\n",
              "    <tr>\n",
              "      <th>25</th>\n",
              "      <td>email_text_short_email &lt;= 0.5 &amp; user_past_purc...</td>\n",
              "      <td>rule</td>\n",
              "      <td>-2.266371e-01</td>\n",
              "      <td>0.362347</td>\n",
              "      <td>0.000000</td>\n",
              "    </tr>\n",
              "    <tr>\n",
              "      <th>39</th>\n",
              "      <td>user_past_purchases &lt;= 8.5 &amp; user_country_FR &gt;...</td>\n",
              "      <td>rule</td>\n",
              "      <td>-2.439724e-01</td>\n",
              "      <td>0.090407</td>\n",
              "      <td>0.000000</td>\n",
              "    </tr>\n",
              "    <tr>\n",
              "      <th>11</th>\n",
              "      <td>user_country_FR</td>\n",
              "      <td>linear</td>\n",
              "      <td>-2.672479e-01</td>\n",
              "      <td>1.000000</td>\n",
              "      <td>0.000000</td>\n",
              "    </tr>\n",
              "    <tr>\n",
              "      <th>38</th>\n",
              "      <td>email_version_personalized &lt;= 0.5 &amp; user_past_...</td>\n",
              "      <td>rule</td>\n",
              "      <td>-3.270764e-01</td>\n",
              "      <td>0.237131</td>\n",
              "      <td>0.000000</td>\n",
              "    </tr>\n",
              "    <tr>\n",
              "      <th>37</th>\n",
              "      <td>hour &lt;= 8.5 &amp; user_country_FR &lt;= 0.5</td>\n",
              "      <td>rule</td>\n",
              "      <td>-4.560681e-01</td>\n",
              "      <td>0.426212</td>\n",
              "      <td>0.000000</td>\n",
              "    </tr>\n",
              "    <tr>\n",
              "      <th>20</th>\n",
              "      <td>weekday_Tuesday &lt;= 0.5 &amp; weekday_Wednesday &lt;= 0.5</td>\n",
              "      <td>rule</td>\n",
              "      <td>-4.746079e-01</td>\n",
              "      <td>0.717915</td>\n",
              "      <td>0.000000</td>\n",
              "    </tr>\n",
              "    <tr>\n",
              "      <th>28</th>\n",
              "      <td>email_version_personalized &lt;= 0.5 &amp; user_past_...</td>\n",
              "      <td>rule</td>\n",
              "      <td>-5.518252e-01</td>\n",
              "      <td>0.262647</td>\n",
              "      <td>0.000000</td>\n",
              "    </tr>\n",
              "    <tr>\n",
              "      <th>40</th>\n",
              "      <td>user_past_purchases &lt;= 5.5 &amp; user_country_US &lt;...</td>\n",
              "      <td>rule</td>\n",
              "      <td>-8.265609e-01</td>\n",
              "      <td>0.289728</td>\n",
              "      <td>0.000000</td>\n",
              "    </tr>\n",
              "    <tr>\n",
              "      <th>43</th>\n",
              "      <td>user_country_US &lt;= 0.5 &amp; user_past_purchases &gt;...</td>\n",
              "      <td>rule</td>\n",
              "      <td>-8.364348e-01</td>\n",
              "      <td>0.109636</td>\n",
              "      <td>0.000000</td>\n",
              "    </tr>\n",
              "    <tr>\n",
              "      <th>18</th>\n",
              "      <td>user_past_purchases &lt;= 4.5 &amp; user_past_purchas...</td>\n",
              "      <td>rule</td>\n",
              "      <td>-2.516874e+00</td>\n",
              "      <td>0.139080</td>\n",
              "      <td>0.000000</td>\n",
              "    </tr>\n",
              "  </tbody>\n",
              "</table>\n",
              "</div>"
            ],
            "text/plain": [
              "                                                 rule    type          coef   support  importance\n",
              "12                                    user_country_UK  linear  9.004964e-01  1.000000    0.000000\n",
              "8                                    weekday_Thursday  linear  3.975176e-01  1.000000    0.000000\n",
              "5                                      weekday_Monday  linear  3.197701e-01  1.000000    0.000000\n",
              "2                                 user_past_purchases  linear  1.421194e-01  1.000000    0.000000\n",
              "17  email_version_personalized > 0.5 & email_text_...    rule  1.291703e-01  0.248180    0.000000\n",
              "35  email_version_personalized > 0.5 & user_countr...    rule  1.094075e-01  0.299551    0.000000\n",
              "23  weekday_Tuesday <= 0.5 & email_text_short_emai...    rule  5.837601e-02  0.427504    0.000000\n",
              "6                                    weekday_Saturday  linear  5.060555e-02  1.000000    0.000000\n",
              "21  user_past_purchases > 3.5 & weekday_Wednesday ...    rule  1.960095e-02  0.066040    0.000000\n",
              "0                                            email_id  linear -6.663682e-08  1.000000    1.337860\n",
              "31  email_text_short_email <= 0.5 & user_past_purc...    rule -2.230903e-02  0.139466    0.000000\n",
              "1                                                hour  linear -2.950407e-02  1.000000    0.788348\n",
              "42  weekday_Wednesday <= 0.5 & user_country_FR <= 0.5    rule -6.569073e-02  0.774326    0.000000\n",
              "32    email_version_personalized <= 0.5 & hour <= 9.5    rule -1.366781e-01  0.279427    0.000000\n",
              "25  email_text_short_email <= 0.5 & user_past_purc...    rule -2.266371e-01  0.362347    0.000000\n",
              "39  user_past_purchases <= 8.5 & user_country_FR >...    rule -2.439724e-01  0.090407    0.000000\n",
              "11                                    user_country_FR  linear -2.672479e-01  1.000000    0.000000\n",
              "38  email_version_personalized <= 0.5 & user_past_...    rule -3.270764e-01  0.237131    0.000000\n",
              "37               hour <= 8.5 & user_country_FR <= 0.5    rule -4.560681e-01  0.426212    0.000000\n",
              "20  weekday_Tuesday <= 0.5 & weekday_Wednesday <= 0.5    rule -4.746079e-01  0.717915    0.000000\n",
              "28  email_version_personalized <= 0.5 & user_past_...    rule -5.518252e-01  0.262647    0.000000\n",
              "40  user_past_purchases <= 5.5 & user_country_US <...    rule -8.265609e-01  0.289728    0.000000\n",
              "43  user_country_US <= 0.5 & user_past_purchases >...    rule -8.364348e-01  0.109636    0.000000\n",
              "18  user_past_purchases <= 4.5 & user_past_purchas...    rule -2.516874e+00  0.139080    0.000000"
            ]
          },
          "metadata": {
            "tags": []
          },
          "execution_count": 6
        }
      ]
    },
    {
      "cell_type": "markdown",
      "metadata": {
        "id": "O_GyMUB9jHwH"
      },
      "source": [
        "This means:\n",
        "\n",
        "•\tColumn rule: this is the regression variable name. If it is one of the original variables, it is simply its name, like in the case of email_id, hour, etc. If it is a new dummy variable created by the trees, it is the rule itself\n",
        "\n",
        "•\tColumn type: linear means one of the original variables, rule means a new rule-based variable coming from the forest\n",
        "\n",
        "•\tColumn Coefficient: it is the coefficient of that variable in the final regression. The logistic regression penalty forced the least important coefficients to be set to zero. What you see here are just the coefficients >0. Its meaning is the common meaning of the logistic regression coefficients, obviously. So positive sign means higher probability of clicks and negative the opposite. The higher the absolute value, the more impact on the log odds has a change in one unit of that variable\n",
        "\n",
        "•\tColumn support: for linear features, it is just 1. For Rules, it represents the proportion of people for which that rule is true. For rules, the best supports are close to 0.5. That means that rule is good in separating events. Close to 0 or 1 supports are pretty useless, since that means that that rule is true/false for pretty much everyone. So, as a general rule, look for rules with high coefficient absolute value and support close to 0.5. A more statistically sound approach would be estimating the std deviation of the rule (which is higher when the support is close to 0.5 and smaller when it is close to 0 or 1) and multiplying it by the coefficient absolute value. The highest this number, the more important is the rule. That’s how R ranks RuleFit rules for instance\n",
        "\n",
        "\n",
        "\n",
        "#Insights From Rulefit\n",
        "\n",
        "\n",
        "Going through the rules and without repeating findings already largely discussed for the previous models (i.e. number of purchases is the most important thing, email generic is always bad, personalization and short are always good, etc.):\n",
        "\n",
        "•\tThere is a nice email_version_personalized > 0.5 & email_text_short_email > 0.5 rule. We knew from before that personalization and short emails were good, if considered by themselves. But this is telling us something more: if you combine these two together is when you actually maximize the value. Note that this is not so obvious. There are many cases in which variables taken independently might be good for the outcome, but not when combined\n",
        "\n",
        "•\tThe model splits on hour in several rules, the split always being early in the morning (either 8 or 9 AM). Note that rules including hour have a way larger coefficient than the original linear variable hour. This means that what really matters is the split early morning/rest of the day, that’s what affects the regression outcome. If you visualize this via partial dependence plots, then it will become even clearer\n",
        "\n",
        "•\tThe largest coefficient by far is for the rule where user_past_purchases == 0 (literally user_past_purchases <= 4.5 & user_past_purchases <= 0.5). These people will probably need a totally different email strategy. Convincing someone to buy for the first time is totally different than convincing someone to buy again\n",
        "\n",
        "•\tThere are several splits on weekday. If we combine them, we see that Thursday and Monday have a large positive coefficient. Also, in absolute value, the largest coefficient including weekday is for the rule: weekday_Wednesday <= 0.5 & weekday_Tuesday <= 0.5. Combining this information, we get to the conclusion that the best possible thing is sending it on Wednesday or Tuesday (not sending it on either day would lead to -0.45). Second best option is sending it on Thursday (would lead to +.39) and third best option is sending it on Monday (+0.31). All other days are significantly worse. So again, we should not send emails on weekends!\n",
        "\n",
        "\n",
        "\n",
        "#Pros and Cons\n",
        "\n",
        "##Pros of using RuleFit to extract insights from data\n",
        "\n",
        "\n",
        "✓ RuleFit is essentially a logistic regression with feature engineering built on top of it via a forest of trees. Therefore, it really has the best of both worlds: it is easy to explain it, it can capture linear and non-linear relationships, and can be used when you need segmentation\n",
        "\n",
        "✓ It is extremely flexible. You can define how to build the forest, you can define how to extract rules from it, and you can define how aggressively to remove rules via the logistic regression penalty. RuleFit is flexible enough that you can actually build the best possible model for your data and project goal\n",
        "\n",
        "\n",
        "\n",
        "##Cons of using RuleFit to extract insights from data\n",
        "\n",
        "\n",
        "✓ It is very computationally expensive. This is not just a computer science problem. It is very much an insight problem as well. Since it takes so long to build it, it becomes hard to optimize it. After all, you cannot spend weeks to try different parameters. This can lead to sub-optimal models and lower quality insights. This is even worse because its flexibility means that there are a lot of parameters that could be optimized\n",
        "\n",
        "✓ Rulefit never quite became as popular as other models. It never went mainstream. In practical terms this means that, if you have any problems, stackoverflow won’t help you that much\n",
        "\n",
        "✓ If you have many rules involving the same variable, might be hard to isolate the impact of that variable on the output. This problem can (and should) be solved by applying partial dependence plots (PDP) to RuleFit. PDP will isolate the impact of a given variable after considering all the rules together. Indeed, PDP are used a lot together with RuleFit.\n"
      ]
    },
    {
      "cell_type": "code",
      "metadata": {
        "id": "I613XkuhgJga"
      },
      "source": [
        ""
      ],
      "execution_count": null,
      "outputs": []
    }
  ]
}